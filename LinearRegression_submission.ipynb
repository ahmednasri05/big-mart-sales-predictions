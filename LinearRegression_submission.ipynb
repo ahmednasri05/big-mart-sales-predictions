{
 "cells": [
  {
   "cell_type": "code",
   "execution_count": 33,
   "id": "e7dc497f-8328-461c-a1a0-47dd6752b21b",
   "metadata": {},
   "outputs": [],
   "source": [
    "%matplotlib inline\n",
    "import numpy as np\n",
    "import pandas as pd\n",
    "import matplotlib.pyplot as plt\n",
    "import seaborn as sns\n",
    "from sklearn.model_selection import train_test_split\n",
    "from sklearn.preprocessing import MinMaxScaler\n",
    "from sklearn.impute import KNNImputer\n",
    "from sklearn.impute import SimpleImputer\n",
    "from sklearn.pipeline import Pipeline\n",
    "from sklearn.compose import ColumnTransformer\n",
    "from xgboost import XGBRegressor\n",
    "from sklearn.preprocessing import LabelEncoder\n",
    "from sklearn.preprocessing import OrdinalEncoder\n",
    "from sklearn.preprocessing import OneHotEncoder\n",
    "from category_encoders import TargetEncoder\n",
    "from sklearn.pipeline import FeatureUnion\n",
    "from sklearn.model_selection import cross_val_score\n",
    "from catboost import CatBoostRegressor\n",
    "from sklearn.model_selection import GridSearchCV\n",
    "from sklearn.model_selection import RandomizedSearchCV\n",
    "from sklearn.preprocessing import StandardScaler\n",
    "import lightgbm as lgb\n",
    "from sklearn.metrics import mean_absolute_error\n",
    "from sklearn.linear_model import LinearRegression\n",
    "from sklearn.feature_selection import mutual_info_regression\n",
    "from sklearn.model_selection import RandomizedSearchCV\n",
    "import optuna\n",
    "from optuna.integration import OptunaSearchCV\n",
    "from sklearn.base import BaseEstimator, TransformerMixin\n",
    "from collections import defaultdict"
   ]
  },
  {
   "cell_type": "code",
   "execution_count": 34,
   "id": "7400ad82",
   "metadata": {},
   "outputs": [],
   "source": [
    "data = pd.read_csv('named_train.csv')"
   ]
  },
  {
   "cell_type": "code",
   "execution_count": 35,
   "id": "efa37778",
   "metadata": {},
   "outputs": [],
   "source": [
    "X = data.drop(columns=['Y'])"
   ]
  },
  {
   "cell_type": "code",
   "execution_count": 36,
   "id": "bed95a0c",
   "metadata": {},
   "outputs": [],
   "source": [
    "Y = data['Y']"
   ]
  },
  {
   "cell_type": "code",
   "execution_count": 37,
   "id": "3cf08e40",
   "metadata": {},
   "outputs": [],
   "source": [
    "class ItemWeightImputer(BaseEstimator, TransformerMixin):\n",
    "    def __init__(self):\n",
    "        self.item_weight_mode = defaultdict(lambda: None)  # Stores mode of Item_Weight per Item_Identifier\n",
    "        self.global_mean = None  # Fallback global mean for Item_Weight\n",
    "\n",
    "    def fit(self, X, y=None):\n",
    "        X = X.copy()\n",
    "\n",
    "        # Ensure the required columns exist\n",
    "        if 'Item_Identifier' not in X.columns or 'Item_Weight' not in X.columns:\n",
    "            raise ValueError(\"Both 'Item_Identifier' and 'Item_Weight' columns must be present in the dataset.\")\n",
    "\n",
    "        # Ensure no None values in Item_Identifier\n",
    "        if X['Item_Identifier'].isnull().any():\n",
    "            raise ValueError(\"Item_Identifier column contains None values.\")\n",
    "\n",
    "        # Calculate mode Item_Weight for each Item_Identifier\n",
    "        item_weight_mode = X.groupby('Item_Identifier')['Item_Weight'].agg(lambda x: x.mode().iloc[0] if not x.mode().empty else np.nan)\n",
    "        self.item_weight_mode.update(item_weight_mode.to_dict())\n",
    "\n",
    "        # Calculate global mean for the Item_Weight column\n",
    "        if X['Item_Weight'].notnull().any():\n",
    "            self.global_mean = X['Item_Weight'].mean()\n",
    "        else:\n",
    "            raise ValueError(\"Item_Weight column contains only NaN values.\")\n",
    "\n",
    "        return self\n",
    "\n",
    "    def transform(self, X):\n",
    "        X = X.copy()\n",
    "\n",
    "        # Ensure the required columns exist\n",
    "        if 'Item_Identifier' not in X.columns or 'Item_Weight' not in X.columns:\n",
    "            raise ValueError(\"Both 'Item_Identifier' and 'Item_Weight' columns must be present in the dataset.\")\n",
    "\n",
    "        # Ensure no None values in Item_Identifier\n",
    "        if X['Item_Identifier'].isnull().any():\n",
    "            raise ValueError(\"Item_Identifier column contains None values.\")\n",
    "\n",
    "        # Safely impute NaN Item_Weights based on Item_Identifier or global mean\n",
    "        X['Item_Weight'] = X.apply(\n",
    "            lambda row: self.item_weight_mode.get(row['Item_Identifier'], self.global_mean)\n",
    "            if pd.isnull(row['Item_Weight'])\n",
    "            else row['Item_Weight'],\n",
    "            axis=1\n",
    "        )\n",
    "\n",
    "        X['Item_Weight'] = X['Item_Weight'].fillna(self.global_mean)\n",
    "\n",
    "        return X[['Item_Weight']]"
   ]
  },
  {
   "cell_type": "code",
   "execution_count": 38,
   "id": "6ad30bff",
   "metadata": {},
   "outputs": [],
   "source": [
    "X[\"age\"] = 2024 - X[\"Outlet_Establishment_Year\"]"
   ]
  },
  {
   "cell_type": "code",
   "execution_count": 39,
   "id": "b49c9767",
   "metadata": {},
   "outputs": [],
   "source": [
    "X.drop(columns=['Outlet_Establishment_Year'],inplace=True)"
   ]
  },
  {
   "cell_type": "code",
   "execution_count": 40,
   "id": "67d7db13",
   "metadata": {},
   "outputs": [
    {
     "data": {
      "text/html": [
       "<div>\n",
       "<style scoped>\n",
       "    .dataframe tbody tr th:only-of-type {\n",
       "        vertical-align: middle;\n",
       "    }\n",
       "\n",
       "    .dataframe tbody tr th {\n",
       "        vertical-align: top;\n",
       "    }\n",
       "\n",
       "    .dataframe thead th {\n",
       "        text-align: right;\n",
       "    }\n",
       "</style>\n",
       "<table border=\"1\" class=\"dataframe\">\n",
       "  <thead>\n",
       "    <tr style=\"text-align: right;\">\n",
       "      <th></th>\n",
       "      <th>Item_Identifier</th>\n",
       "      <th>Item_Weight</th>\n",
       "      <th>Item_Fat_Content</th>\n",
       "      <th>Item_Visibility</th>\n",
       "      <th>Item_Type</th>\n",
       "      <th>Item_MRP</th>\n",
       "      <th>Outlet_Identifier</th>\n",
       "      <th>Outlet_Size</th>\n",
       "      <th>Outlet_Location_Type</th>\n",
       "      <th>Outlet_Type</th>\n",
       "      <th>age</th>\n",
       "    </tr>\n",
       "  </thead>\n",
       "  <tbody>\n",
       "    <tr>\n",
       "      <th>0</th>\n",
       "      <td>FDA15</td>\n",
       "      <td>9.300</td>\n",
       "      <td>Low Fat</td>\n",
       "      <td>0.016047</td>\n",
       "      <td>Dairy</td>\n",
       "      <td>249.8092</td>\n",
       "      <td>OUT049</td>\n",
       "      <td>Medium</td>\n",
       "      <td>Tier 1</td>\n",
       "      <td>Supermarket Type1</td>\n",
       "      <td>25</td>\n",
       "    </tr>\n",
       "    <tr>\n",
       "      <th>1</th>\n",
       "      <td>DRC01</td>\n",
       "      <td>5.920</td>\n",
       "      <td>Regular</td>\n",
       "      <td>0.019278</td>\n",
       "      <td>Soft Drinks</td>\n",
       "      <td>48.2692</td>\n",
       "      <td>OUT018</td>\n",
       "      <td>Medium</td>\n",
       "      <td>Tier 3</td>\n",
       "      <td>Supermarket Type2</td>\n",
       "      <td>15</td>\n",
       "    </tr>\n",
       "    <tr>\n",
       "      <th>2</th>\n",
       "      <td>FDN15</td>\n",
       "      <td>17.500</td>\n",
       "      <td>Low Fat</td>\n",
       "      <td>0.016760</td>\n",
       "      <td>Meat</td>\n",
       "      <td>141.6180</td>\n",
       "      <td>OUT049</td>\n",
       "      <td>Medium</td>\n",
       "      <td>Tier 1</td>\n",
       "      <td>Supermarket Type1</td>\n",
       "      <td>25</td>\n",
       "    </tr>\n",
       "    <tr>\n",
       "      <th>3</th>\n",
       "      <td>FDX07</td>\n",
       "      <td>19.200</td>\n",
       "      <td>Regular</td>\n",
       "      <td>0.000000</td>\n",
       "      <td>Fruits and Vegetables</td>\n",
       "      <td>182.0950</td>\n",
       "      <td>OUT010</td>\n",
       "      <td>NaN</td>\n",
       "      <td>Tier 3</td>\n",
       "      <td>Grocery Store</td>\n",
       "      <td>26</td>\n",
       "    </tr>\n",
       "    <tr>\n",
       "      <th>4</th>\n",
       "      <td>NCD19</td>\n",
       "      <td>8.930</td>\n",
       "      <td>Low Fat</td>\n",
       "      <td>0.000000</td>\n",
       "      <td>Household</td>\n",
       "      <td>53.8614</td>\n",
       "      <td>OUT013</td>\n",
       "      <td>High</td>\n",
       "      <td>Tier 3</td>\n",
       "      <td>Supermarket Type1</td>\n",
       "      <td>37</td>\n",
       "    </tr>\n",
       "    <tr>\n",
       "      <th>...</th>\n",
       "      <td>...</td>\n",
       "      <td>...</td>\n",
       "      <td>...</td>\n",
       "      <td>...</td>\n",
       "      <td>...</td>\n",
       "      <td>...</td>\n",
       "      <td>...</td>\n",
       "      <td>...</td>\n",
       "      <td>...</td>\n",
       "      <td>...</td>\n",
       "      <td>...</td>\n",
       "    </tr>\n",
       "    <tr>\n",
       "      <th>5995</th>\n",
       "      <td>FDB32</td>\n",
       "      <td>20.600</td>\n",
       "      <td>Low Fat</td>\n",
       "      <td>0.023586</td>\n",
       "      <td>Fruits and Vegetables</td>\n",
       "      <td>94.7778</td>\n",
       "      <td>OUT017</td>\n",
       "      <td>NaN</td>\n",
       "      <td>Tier 2</td>\n",
       "      <td>Supermarket Type1</td>\n",
       "      <td>17</td>\n",
       "    </tr>\n",
       "    <tr>\n",
       "      <th>5996</th>\n",
       "      <td>FDJ16</td>\n",
       "      <td>9.195</td>\n",
       "      <td>Low Fat</td>\n",
       "      <td>0.115064</td>\n",
       "      <td>Frozen Foods</td>\n",
       "      <td>58.6246</td>\n",
       "      <td>OUT049</td>\n",
       "      <td>Medium</td>\n",
       "      <td>Tier 1</td>\n",
       "      <td>Supermarket Type1</td>\n",
       "      <td>25</td>\n",
       "    </tr>\n",
       "    <tr>\n",
       "      <th>5997</th>\n",
       "      <td>FDJ32</td>\n",
       "      <td>10.695</td>\n",
       "      <td>Low Fat</td>\n",
       "      <td>0.057910</td>\n",
       "      <td>Fruits and Vegetables</td>\n",
       "      <td>60.4536</td>\n",
       "      <td>OUT045</td>\n",
       "      <td>NaN</td>\n",
       "      <td>Tier 2</td>\n",
       "      <td>Supermarket Type1</td>\n",
       "      <td>22</td>\n",
       "    </tr>\n",
       "    <tr>\n",
       "      <th>5998</th>\n",
       "      <td>FDO12</td>\n",
       "      <td>15.750</td>\n",
       "      <td>Low Fat</td>\n",
       "      <td>0.054920</td>\n",
       "      <td>Baking Goods</td>\n",
       "      <td>195.8452</td>\n",
       "      <td>OUT035</td>\n",
       "      <td>Small</td>\n",
       "      <td>Tier 2</td>\n",
       "      <td>Supermarket Type1</td>\n",
       "      <td>20</td>\n",
       "    </tr>\n",
       "    <tr>\n",
       "      <th>5999</th>\n",
       "      <td>NCB18</td>\n",
       "      <td>19.600</td>\n",
       "      <td>Low Fat</td>\n",
       "      <td>0.041291</td>\n",
       "      <td>Household</td>\n",
       "      <td>86.9514</td>\n",
       "      <td>OUT046</td>\n",
       "      <td>Small</td>\n",
       "      <td>Tier 1</td>\n",
       "      <td>Supermarket Type1</td>\n",
       "      <td>27</td>\n",
       "    </tr>\n",
       "  </tbody>\n",
       "</table>\n",
       "<p>6000 rows × 11 columns</p>\n",
       "</div>"
      ],
      "text/plain": [
       "     Item_Identifier  Item_Weight Item_Fat_Content  Item_Visibility  \\\n",
       "0              FDA15        9.300          Low Fat         0.016047   \n",
       "1              DRC01        5.920          Regular         0.019278   \n",
       "2              FDN15       17.500          Low Fat         0.016760   \n",
       "3              FDX07       19.200          Regular         0.000000   \n",
       "4              NCD19        8.930          Low Fat         0.000000   \n",
       "...              ...          ...              ...              ...   \n",
       "5995           FDB32       20.600          Low Fat         0.023586   \n",
       "5996           FDJ16        9.195          Low Fat         0.115064   \n",
       "5997           FDJ32       10.695          Low Fat         0.057910   \n",
       "5998           FDO12       15.750          Low Fat         0.054920   \n",
       "5999           NCB18       19.600          Low Fat         0.041291   \n",
       "\n",
       "                  Item_Type  Item_MRP Outlet_Identifier Outlet_Size  \\\n",
       "0                     Dairy  249.8092            OUT049      Medium   \n",
       "1               Soft Drinks   48.2692            OUT018      Medium   \n",
       "2                      Meat  141.6180            OUT049      Medium   \n",
       "3     Fruits and Vegetables  182.0950            OUT010         NaN   \n",
       "4                 Household   53.8614            OUT013        High   \n",
       "...                     ...       ...               ...         ...   \n",
       "5995  Fruits and Vegetables   94.7778            OUT017         NaN   \n",
       "5996           Frozen Foods   58.6246            OUT049      Medium   \n",
       "5997  Fruits and Vegetables   60.4536            OUT045         NaN   \n",
       "5998           Baking Goods  195.8452            OUT035       Small   \n",
       "5999              Household   86.9514            OUT046       Small   \n",
       "\n",
       "     Outlet_Location_Type        Outlet_Type  age  \n",
       "0                  Tier 1  Supermarket Type1   25  \n",
       "1                  Tier 3  Supermarket Type2   15  \n",
       "2                  Tier 1  Supermarket Type1   25  \n",
       "3                  Tier 3      Grocery Store   26  \n",
       "4                  Tier 3  Supermarket Type1   37  \n",
       "...                   ...                ...  ...  \n",
       "5995               Tier 2  Supermarket Type1   17  \n",
       "5996               Tier 1  Supermarket Type1   25  \n",
       "5997               Tier 2  Supermarket Type1   22  \n",
       "5998               Tier 2  Supermarket Type1   20  \n",
       "5999               Tier 1  Supermarket Type1   27  \n",
       "\n",
       "[6000 rows x 11 columns]"
      ]
     },
     "execution_count": 40,
     "metadata": {},
     "output_type": "execute_result"
    }
   ],
   "source": [
    "X"
   ]
  },
  {
   "cell_type": "code",
   "execution_count": 42,
   "id": "d4fe218d",
   "metadata": {},
   "outputs": [],
   "source": [
    "X['Category'] = X['Item_Identifier'].str[:2]"
   ]
  },
  {
   "cell_type": "code",
   "execution_count": 43,
   "id": "94d94b21",
   "metadata": {},
   "outputs": [],
   "source": [
    "X[\"Item_Fat_Content\"] = X[\"Item_Fat_Content\"].replace({\"low fat\": \"LF\", \"Low Fat\": \"LF\", \"Regular\": \"REG\", \"reg\": \"REG\"})\n",
    "X.loc[X['Category'] == 'NC', 'Item_Fat_Content'] = 'nofat'"
   ]
  },
  {
   "cell_type": "code",
   "execution_count": 45,
   "id": "f50762a7",
   "metadata": {},
   "outputs": [],
   "source": [
    "impute_sizes = {\n",
    "    \"OUT010\": \"Small\",\n",
    "    \"OUT017\": \"Small\",\n",
    "    \"OUT045\": \"Medium\"\n",
    "}\n",
    "X['Outlet_Size'] = X.apply(\n",
    "    lambda row: impute_sizes[row['Outlet_Identifier']] if pd.isnull(row['Outlet_Size']) else row['Outlet_Size'], axis=1\n",
    ")"
   ]
  },
  {
   "cell_type": "code",
   "execution_count": 46,
   "id": "e556a869",
   "metadata": {},
   "outputs": [],
   "source": [
    "X['MRP_cluster']=pd.cut(X[\"Item_MRP\"],bins=[25,69,137,203,270],labels=['very low','low','high','very high'],right=True)"
   ]
  },
  {
   "cell_type": "code",
   "execution_count": 47,
   "id": "69aaa949",
   "metadata": {},
   "outputs": [],
   "source": [
    "weightimputer = ItemWeightImputer()"
   ]
  },
  {
   "cell_type": "code",
   "execution_count": 48,
   "id": "b5ef41d5",
   "metadata": {},
   "outputs": [],
   "source": [
    "X[\"Item_Weight\"] = weightimputer.fit_transform(X)"
   ]
  },
  {
   "cell_type": "code",
   "execution_count": 50,
   "id": "c49345dd",
   "metadata": {},
   "outputs": [],
   "source": [
    "X[\"Weight_per_Unit_MRP\"] = X[\"Item_Weight\"]/X[\"Item_MRP\"]"
   ]
  },
  {
   "cell_type": "code",
   "execution_count": 52,
   "id": "b220ea1e",
   "metadata": {},
   "outputs": [],
   "source": [
    "#target_encoder_cols = ['Item_Type']\n",
    "numerical_cols = [\"Item_Weight\",\"Weight_per_Unit_MRP\",\"Item_Visibility\"]\n",
    "# ordinal_cols =[\"Outlet_Size\"]\n",
    "one_hot_columns = [\"Outlet_Location_Type\",\"Category\",\"Item_Fat_Content\",\"Outlet_Size\",\"Outlet_Type\"]\n",
    "target_encoder_cols = [\"Item_Identifier\",'Item_Type','Outlet_Identifier']\n",
    "ordinal_categories = [['very low', 'low', 'high', 'very high']]\n",
    "# Numerical pipeline\n",
    "# numerical_pipeline = Pipeline([\n",
    "#     (\"group_mean_imputer\", FillNaWithGroupMode(group_col=\"Item_Identifier\", target_col=\"Item_Weight\")),\n",
    "#     (\"mean_imputer\", SimpleImputer(strategy=\"mean\"))\n",
    "#     # (\"scaler\", StandardScaler())\n",
    "# ])\n",
    "numerical_pipeline = Pipeline([\n",
    "    # (\"group_mode_imputer\", FillNaWithGroupMode(group_col=group_col, target_col='Item_Weight')),\n",
    "    (\"mean_imputer\", SimpleImputer(strategy='mean')),\n",
    "    (\"scaler\", StandardScaler())\n",
    "])\n",
    "\n",
    "#Ordinal pipeline\n",
    "# ordinal_pipeline = Pipeline([\n",
    "#     (\"imputer\", SimpleImputer(strategy=\"most_frequent\")),\n",
    "#     (\"ordinal\", OrdinalEncoder(categories=ordinal_categories))\n",
    "# ])\n",
    "target_encoding_pipeline = Pipeline([\n",
    "    (\"target_encoder\", TargetEncoder(cols=target_encoder_cols , smoothing=0.5) )\n",
    "])\n",
    "# One-hot encoding pipeline\n",
    "onehot_transform_pipeline = Pipeline([\n",
    "    (\"imputer\", SimpleImputer(strategy=\"most_frequent\")),\n",
    "    (\"onehot\", OneHotEncoder(handle_unknown=\"ignore\",sparse_output=False))\n",
    "])\n",
    "ordinal_pipeline = Pipeline([\n",
    "    (\"imputer\", SimpleImputer(strategy=\"most_frequent\")),\n",
    "    (\"ordinal\", OrdinalEncoder(categories=ordinal_categories))\n",
    "])\n",
    "\n",
    "# Target encoding pipeline\n",
    "# target_encoding_pipeline = Pipeline([\n",
    "#     (\"target_encoder\", TargetEncoder(cols=target_encoder_cols))\n",
    "# ])\n",
    "\n",
    "# Combine all pipelines into a ColumnTransformer\n",
    "preprocessor = ColumnTransformer([\n",
    "    (\"num\", numerical_pipeline, numerical_cols),\n",
    "    (\"target_encoder\", target_encoding_pipeline, target_encoder_cols),\n",
    "    (\"onehot\", onehot_transform_pipeline, one_hot_columns),\n",
    "    (\"ordinal\", ordinal_pipeline, [\"MRP_cluster\"])\n",
    "\n",
    "])\n",
    "\n",
    "\n",
    "# Final pipeline\n",
    "final_pipeline = Pipeline([\n",
    "    (\"preprocessor\", preprocessor),\n",
    "])"
   ]
  },
  {
   "cell_type": "code",
   "execution_count": 54,
   "id": "4876a1e0",
   "metadata": {},
   "outputs": [
    {
     "name": "stderr",
     "output_type": "stream",
     "text": [
      "[I 2024-12-28 01:33:30,068] A new study created in memory with name: no-name-f76cec0f-ae22-4d58-bf82-3a77293f70d9\n",
      "[I 2024-12-28 01:33:30,340] Trial 0 finished with value: 0.41413494811376 and parameters: {'fit_intercept': False}. Best is trial 0 with value: 0.41413494811376.\n"
     ]
    },
    {
     "name": "stdout",
     "output_type": "stream",
     "text": [
      "Trial MAE: 0.41413494811376\n"
     ]
    },
    {
     "name": "stderr",
     "output_type": "stream",
     "text": [
      "[I 2024-12-28 01:33:30,583] Trial 1 finished with value: 0.4147404040527344 and parameters: {'fit_intercept': True}. Best is trial 0 with value: 0.41413494811376.\n"
     ]
    },
    {
     "name": "stdout",
     "output_type": "stream",
     "text": [
      "Trial MAE: 0.4147404040527344\n"
     ]
    },
    {
     "name": "stderr",
     "output_type": "stream",
     "text": [
      "[I 2024-12-28 01:33:30,883] Trial 2 finished with value: 0.4147404040527344 and parameters: {'fit_intercept': True}. Best is trial 0 with value: 0.41413494811376.\n"
     ]
    },
    {
     "name": "stdout",
     "output_type": "stream",
     "text": [
      "Trial MAE: 0.4147404040527344\n"
     ]
    },
    {
     "name": "stderr",
     "output_type": "stream",
     "text": [
      "[I 2024-12-28 01:33:31,153] Trial 3 finished with value: 0.4147404040527344 and parameters: {'fit_intercept': True}. Best is trial 0 with value: 0.41413494811376.\n"
     ]
    },
    {
     "name": "stdout",
     "output_type": "stream",
     "text": [
      "Trial MAE: 0.4147404040527344\n"
     ]
    },
    {
     "name": "stderr",
     "output_type": "stream",
     "text": [
      "[I 2024-12-28 01:33:31,399] Trial 4 finished with value: 0.41413494811376 and parameters: {'fit_intercept': False}. Best is trial 0 with value: 0.41413494811376.\n"
     ]
    },
    {
     "name": "stdout",
     "output_type": "stream",
     "text": [
      "Trial MAE: 0.41413494811376\n"
     ]
    },
    {
     "name": "stderr",
     "output_type": "stream",
     "text": [
      "[I 2024-12-28 01:33:31,652] Trial 5 finished with value: 0.4147404040527344 and parameters: {'fit_intercept': True}. Best is trial 0 with value: 0.41413494811376.\n"
     ]
    },
    {
     "name": "stdout",
     "output_type": "stream",
     "text": [
      "Trial MAE: 0.4147404040527344\n"
     ]
    },
    {
     "name": "stderr",
     "output_type": "stream",
     "text": [
      "[I 2024-12-28 01:33:31,938] Trial 6 finished with value: 0.41413494811376 and parameters: {'fit_intercept': False}. Best is trial 0 with value: 0.41413494811376.\n"
     ]
    },
    {
     "name": "stdout",
     "output_type": "stream",
     "text": [
      "Trial MAE: 0.41413494811376\n"
     ]
    },
    {
     "name": "stderr",
     "output_type": "stream",
     "text": [
      "[I 2024-12-28 01:33:32,223] Trial 7 finished with value: 0.41413494811376 and parameters: {'fit_intercept': False}. Best is trial 0 with value: 0.41413494811376.\n"
     ]
    },
    {
     "name": "stdout",
     "output_type": "stream",
     "text": [
      "Trial MAE: 0.41413494811376\n"
     ]
    },
    {
     "name": "stderr",
     "output_type": "stream",
     "text": [
      "[I 2024-12-28 01:33:32,472] Trial 8 finished with value: 0.4147404040527344 and parameters: {'fit_intercept': True}. Best is trial 0 with value: 0.41413494811376.\n"
     ]
    },
    {
     "name": "stdout",
     "output_type": "stream",
     "text": [
      "Trial MAE: 0.4147404040527344\n"
     ]
    },
    {
     "name": "stderr",
     "output_type": "stream",
     "text": [
      "[I 2024-12-28 01:33:32,711] Trial 9 finished with value: 0.4147404040527344 and parameters: {'fit_intercept': True}. Best is trial 0 with value: 0.41413494811376.\n"
     ]
    },
    {
     "name": "stdout",
     "output_type": "stream",
     "text": [
      "Trial MAE: 0.4147404040527344\n"
     ]
    },
    {
     "name": "stderr",
     "output_type": "stream",
     "text": [
      "[I 2024-12-28 01:33:32,936] Trial 10 finished with value: 0.41413494811376 and parameters: {'fit_intercept': False}. Best is trial 0 with value: 0.41413494811376.\n"
     ]
    },
    {
     "name": "stdout",
     "output_type": "stream",
     "text": [
      "Trial MAE: 0.41413494811376\n"
     ]
    },
    {
     "name": "stderr",
     "output_type": "stream",
     "text": [
      "[I 2024-12-28 01:33:33,165] Trial 11 finished with value: 0.41413494811376 and parameters: {'fit_intercept': False}. Best is trial 0 with value: 0.41413494811376.\n"
     ]
    },
    {
     "name": "stdout",
     "output_type": "stream",
     "text": [
      "Trial MAE: 0.41413494811376\n"
     ]
    },
    {
     "name": "stderr",
     "output_type": "stream",
     "text": [
      "[I 2024-12-28 01:33:33,482] Trial 12 finished with value: 0.41413494811376 and parameters: {'fit_intercept': False}. Best is trial 0 with value: 0.41413494811376.\n"
     ]
    },
    {
     "name": "stdout",
     "output_type": "stream",
     "text": [
      "Trial MAE: 0.41413494811376\n"
     ]
    },
    {
     "name": "stderr",
     "output_type": "stream",
     "text": [
      "[I 2024-12-28 01:33:33,711] Trial 13 finished with value: 0.41413494811376 and parameters: {'fit_intercept': False}. Best is trial 0 with value: 0.41413494811376.\n"
     ]
    },
    {
     "name": "stdout",
     "output_type": "stream",
     "text": [
      "Trial MAE: 0.41413494811376\n"
     ]
    },
    {
     "name": "stderr",
     "output_type": "stream",
     "text": [
      "[I 2024-12-28 01:33:33,974] Trial 14 finished with value: 0.41413494811376 and parameters: {'fit_intercept': False}. Best is trial 0 with value: 0.41413494811376.\n"
     ]
    },
    {
     "name": "stdout",
     "output_type": "stream",
     "text": [
      "Trial MAE: 0.41413494811376\n"
     ]
    },
    {
     "name": "stderr",
     "output_type": "stream",
     "text": [
      "[I 2024-12-28 01:33:34,197] Trial 15 finished with value: 0.41413494811376 and parameters: {'fit_intercept': False}. Best is trial 0 with value: 0.41413494811376.\n"
     ]
    },
    {
     "name": "stdout",
     "output_type": "stream",
     "text": [
      "Trial MAE: 0.41413494811376\n"
     ]
    },
    {
     "name": "stderr",
     "output_type": "stream",
     "text": [
      "[I 2024-12-28 01:33:34,438] Trial 16 finished with value: 0.41413494811376 and parameters: {'fit_intercept': False}. Best is trial 0 with value: 0.41413494811376.\n"
     ]
    },
    {
     "name": "stdout",
     "output_type": "stream",
     "text": [
      "Trial MAE: 0.41413494811376\n"
     ]
    },
    {
     "name": "stderr",
     "output_type": "stream",
     "text": [
      "[I 2024-12-28 01:33:34,672] Trial 17 finished with value: 0.41413494811376 and parameters: {'fit_intercept': False}. Best is trial 0 with value: 0.41413494811376.\n"
     ]
    },
    {
     "name": "stdout",
     "output_type": "stream",
     "text": [
      "Trial MAE: 0.41413494811376\n"
     ]
    },
    {
     "name": "stderr",
     "output_type": "stream",
     "text": [
      "[I 2024-12-28 01:33:34,902] Trial 18 finished with value: 0.41413494811376 and parameters: {'fit_intercept': False}. Best is trial 0 with value: 0.41413494811376.\n"
     ]
    },
    {
     "name": "stdout",
     "output_type": "stream",
     "text": [
      "Trial MAE: 0.41413494811376\n"
     ]
    },
    {
     "name": "stderr",
     "output_type": "stream",
     "text": [
      "[I 2024-12-28 01:33:35,130] Trial 19 finished with value: 0.41413494811376 and parameters: {'fit_intercept': False}. Best is trial 0 with value: 0.41413494811376.\n"
     ]
    },
    {
     "name": "stdout",
     "output_type": "stream",
     "text": [
      "Trial MAE: 0.41413494811376\n"
     ]
    },
    {
     "name": "stderr",
     "output_type": "stream",
     "text": [
      "[I 2024-12-28 01:33:35,354] Trial 20 finished with value: 0.41413494811376 and parameters: {'fit_intercept': False}. Best is trial 0 with value: 0.41413494811376.\n"
     ]
    },
    {
     "name": "stdout",
     "output_type": "stream",
     "text": [
      "Trial MAE: 0.41413494811376\n"
     ]
    },
    {
     "name": "stderr",
     "output_type": "stream",
     "text": [
      "[I 2024-12-28 01:33:35,579] Trial 21 finished with value: 0.41413494811376 and parameters: {'fit_intercept': False}. Best is trial 0 with value: 0.41413494811376.\n"
     ]
    },
    {
     "name": "stdout",
     "output_type": "stream",
     "text": [
      "Trial MAE: 0.41413494811376\n"
     ]
    },
    {
     "name": "stderr",
     "output_type": "stream",
     "text": [
      "[I 2024-12-28 01:33:35,817] Trial 22 finished with value: 0.41413494811376 and parameters: {'fit_intercept': False}. Best is trial 0 with value: 0.41413494811376.\n"
     ]
    },
    {
     "name": "stdout",
     "output_type": "stream",
     "text": [
      "Trial MAE: 0.41413494811376\n"
     ]
    },
    {
     "name": "stderr",
     "output_type": "stream",
     "text": [
      "[I 2024-12-28 01:33:36,054] Trial 23 finished with value: 0.41413494811376 and parameters: {'fit_intercept': False}. Best is trial 0 with value: 0.41413494811376.\n"
     ]
    },
    {
     "name": "stdout",
     "output_type": "stream",
     "text": [
      "Trial MAE: 0.41413494811376\n"
     ]
    },
    {
     "name": "stderr",
     "output_type": "stream",
     "text": [
      "[I 2024-12-28 01:33:36,278] Trial 24 finished with value: 0.41413494811376 and parameters: {'fit_intercept': False}. Best is trial 0 with value: 0.41413494811376.\n"
     ]
    },
    {
     "name": "stdout",
     "output_type": "stream",
     "text": [
      "Trial MAE: 0.41413494811376\n"
     ]
    },
    {
     "name": "stderr",
     "output_type": "stream",
     "text": [
      "[I 2024-12-28 01:33:36,511] Trial 25 finished with value: 0.41413494811376 and parameters: {'fit_intercept': False}. Best is trial 0 with value: 0.41413494811376.\n"
     ]
    },
    {
     "name": "stdout",
     "output_type": "stream",
     "text": [
      "Trial MAE: 0.41413494811376\n"
     ]
    },
    {
     "name": "stderr",
     "output_type": "stream",
     "text": [
      "[I 2024-12-28 01:33:36,752] Trial 26 finished with value: 0.41413494811376 and parameters: {'fit_intercept': False}. Best is trial 0 with value: 0.41413494811376.\n"
     ]
    },
    {
     "name": "stdout",
     "output_type": "stream",
     "text": [
      "Trial MAE: 0.41413494811376\n"
     ]
    },
    {
     "name": "stderr",
     "output_type": "stream",
     "text": [
      "[I 2024-12-28 01:33:37,044] Trial 27 finished with value: 0.41413494811376 and parameters: {'fit_intercept': False}. Best is trial 0 with value: 0.41413494811376.\n"
     ]
    },
    {
     "name": "stdout",
     "output_type": "stream",
     "text": [
      "Trial MAE: 0.41413494811376\n"
     ]
    },
    {
     "name": "stderr",
     "output_type": "stream",
     "text": [
      "[I 2024-12-28 01:33:37,268] Trial 28 finished with value: 0.41413494811376 and parameters: {'fit_intercept': False}. Best is trial 0 with value: 0.41413494811376.\n"
     ]
    },
    {
     "name": "stdout",
     "output_type": "stream",
     "text": [
      "Trial MAE: 0.41413494811376\n"
     ]
    },
    {
     "name": "stderr",
     "output_type": "stream",
     "text": [
      "[I 2024-12-28 01:33:37,507] Trial 29 finished with value: 0.4147404040527344 and parameters: {'fit_intercept': True}. Best is trial 0 with value: 0.41413494811376.\n"
     ]
    },
    {
     "name": "stdout",
     "output_type": "stream",
     "text": [
      "Trial MAE: 0.4147404040527344\n"
     ]
    },
    {
     "name": "stderr",
     "output_type": "stream",
     "text": [
      "[I 2024-12-28 01:33:37,730] Trial 30 finished with value: 0.41413494811376 and parameters: {'fit_intercept': False}. Best is trial 0 with value: 0.41413494811376.\n"
     ]
    },
    {
     "name": "stdout",
     "output_type": "stream",
     "text": [
      "Trial MAE: 0.41413494811376\n"
     ]
    },
    {
     "name": "stderr",
     "output_type": "stream",
     "text": [
      "[I 2024-12-28 01:33:37,957] Trial 31 finished with value: 0.41413494811376 and parameters: {'fit_intercept': False}. Best is trial 0 with value: 0.41413494811376.\n"
     ]
    },
    {
     "name": "stdout",
     "output_type": "stream",
     "text": [
      "Trial MAE: 0.41413494811376\n"
     ]
    },
    {
     "name": "stderr",
     "output_type": "stream",
     "text": [
      "[I 2024-12-28 01:33:38,184] Trial 32 finished with value: 0.41413494811376 and parameters: {'fit_intercept': False}. Best is trial 0 with value: 0.41413494811376.\n"
     ]
    },
    {
     "name": "stdout",
     "output_type": "stream",
     "text": [
      "Trial MAE: 0.41413494811376\n"
     ]
    },
    {
     "name": "stderr",
     "output_type": "stream",
     "text": [
      "[I 2024-12-28 01:33:38,410] Trial 33 finished with value: 0.41413494811376 and parameters: {'fit_intercept': False}. Best is trial 0 with value: 0.41413494811376.\n"
     ]
    },
    {
     "name": "stdout",
     "output_type": "stream",
     "text": [
      "Trial MAE: 0.41413494811376\n"
     ]
    },
    {
     "name": "stderr",
     "output_type": "stream",
     "text": [
      "[I 2024-12-28 01:33:38,650] Trial 34 finished with value: 0.4147404040527344 and parameters: {'fit_intercept': True}. Best is trial 0 with value: 0.41413494811376.\n"
     ]
    },
    {
     "name": "stdout",
     "output_type": "stream",
     "text": [
      "Trial MAE: 0.4147404040527344\n"
     ]
    },
    {
     "name": "stderr",
     "output_type": "stream",
     "text": [
      "[I 2024-12-28 01:33:38,877] Trial 35 finished with value: 0.4147404040527344 and parameters: {'fit_intercept': True}. Best is trial 0 with value: 0.41413494811376.\n"
     ]
    },
    {
     "name": "stdout",
     "output_type": "stream",
     "text": [
      "Trial MAE: 0.4147404040527344\n"
     ]
    },
    {
     "name": "stderr",
     "output_type": "stream",
     "text": [
      "[I 2024-12-28 01:33:39,103] Trial 36 finished with value: 0.41413494811376 and parameters: {'fit_intercept': False}. Best is trial 0 with value: 0.41413494811376.\n"
     ]
    },
    {
     "name": "stdout",
     "output_type": "stream",
     "text": [
      "Trial MAE: 0.41413494811376\n"
     ]
    },
    {
     "name": "stderr",
     "output_type": "stream",
     "text": [
      "[I 2024-12-28 01:33:39,340] Trial 37 finished with value: 0.4147404040527344 and parameters: {'fit_intercept': True}. Best is trial 0 with value: 0.41413494811376.\n"
     ]
    },
    {
     "name": "stdout",
     "output_type": "stream",
     "text": [
      "Trial MAE: 0.4147404040527344\n"
     ]
    },
    {
     "name": "stderr",
     "output_type": "stream",
     "text": [
      "[I 2024-12-28 01:33:39,567] Trial 38 finished with value: 0.41413494811376 and parameters: {'fit_intercept': False}. Best is trial 0 with value: 0.41413494811376.\n"
     ]
    },
    {
     "name": "stdout",
     "output_type": "stream",
     "text": [
      "Trial MAE: 0.41413494811376\n"
     ]
    },
    {
     "name": "stderr",
     "output_type": "stream",
     "text": [
      "[I 2024-12-28 01:33:39,803] Trial 39 finished with value: 0.41413494811376 and parameters: {'fit_intercept': False}. Best is trial 0 with value: 0.41413494811376.\n"
     ]
    },
    {
     "name": "stdout",
     "output_type": "stream",
     "text": [
      "Trial MAE: 0.41413494811376\n"
     ]
    },
    {
     "name": "stderr",
     "output_type": "stream",
     "text": [
      "[I 2024-12-28 01:33:40,115] Trial 40 finished with value: 0.4147404040527344 and parameters: {'fit_intercept': True}. Best is trial 0 with value: 0.41413494811376.\n"
     ]
    },
    {
     "name": "stdout",
     "output_type": "stream",
     "text": [
      "Trial MAE: 0.4147404040527344\n"
     ]
    },
    {
     "name": "stderr",
     "output_type": "stream",
     "text": [
      "[I 2024-12-28 01:33:40,367] Trial 41 finished with value: 0.41413494811376 and parameters: {'fit_intercept': False}. Best is trial 0 with value: 0.41413494811376.\n"
     ]
    },
    {
     "name": "stdout",
     "output_type": "stream",
     "text": [
      "Trial MAE: 0.41413494811376\n"
     ]
    },
    {
     "name": "stderr",
     "output_type": "stream",
     "text": [
      "[I 2024-12-28 01:33:40,739] Trial 42 finished with value: 0.41413494811376 and parameters: {'fit_intercept': False}. Best is trial 0 with value: 0.41413494811376.\n"
     ]
    },
    {
     "name": "stdout",
     "output_type": "stream",
     "text": [
      "Trial MAE: 0.41413494811376\n"
     ]
    },
    {
     "name": "stderr",
     "output_type": "stream",
     "text": [
      "[I 2024-12-28 01:33:40,995] Trial 43 finished with value: 0.41413494811376 and parameters: {'fit_intercept': False}. Best is trial 0 with value: 0.41413494811376.\n"
     ]
    },
    {
     "name": "stdout",
     "output_type": "stream",
     "text": [
      "Trial MAE: 0.41413494811376\n"
     ]
    },
    {
     "name": "stderr",
     "output_type": "stream",
     "text": [
      "[I 2024-12-28 01:33:41,236] Trial 44 finished with value: 0.41413494811376 and parameters: {'fit_intercept': False}. Best is trial 0 with value: 0.41413494811376.\n"
     ]
    },
    {
     "name": "stdout",
     "output_type": "stream",
     "text": [
      "Trial MAE: 0.41413494811376\n"
     ]
    },
    {
     "name": "stderr",
     "output_type": "stream",
     "text": [
      "[I 2024-12-28 01:33:41,481] Trial 45 finished with value: 0.41413494811376 and parameters: {'fit_intercept': False}. Best is trial 0 with value: 0.41413494811376.\n"
     ]
    },
    {
     "name": "stdout",
     "output_type": "stream",
     "text": [
      "Trial MAE: 0.41413494811376\n"
     ]
    },
    {
     "name": "stderr",
     "output_type": "stream",
     "text": [
      "[I 2024-12-28 01:33:41,728] Trial 46 finished with value: 0.41413494811376 and parameters: {'fit_intercept': False}. Best is trial 0 with value: 0.41413494811376.\n"
     ]
    },
    {
     "name": "stdout",
     "output_type": "stream",
     "text": [
      "Trial MAE: 0.41413494811376\n"
     ]
    },
    {
     "name": "stderr",
     "output_type": "stream",
     "text": [
      "[I 2024-12-28 01:33:41,977] Trial 47 finished with value: 0.41413494811376 and parameters: {'fit_intercept': False}. Best is trial 0 with value: 0.41413494811376.\n"
     ]
    },
    {
     "name": "stdout",
     "output_type": "stream",
     "text": [
      "Trial MAE: 0.41413494811376\n"
     ]
    },
    {
     "name": "stderr",
     "output_type": "stream",
     "text": [
      "[I 2024-12-28 01:33:42,232] Trial 48 finished with value: 0.41413494811376 and parameters: {'fit_intercept': False}. Best is trial 0 with value: 0.41413494811376.\n"
     ]
    },
    {
     "name": "stdout",
     "output_type": "stream",
     "text": [
      "Trial MAE: 0.41413494811376\n"
     ]
    },
    {
     "name": "stderr",
     "output_type": "stream",
     "text": [
      "[I 2024-12-28 01:33:42,469] Trial 49 finished with value: 0.41413494811376 and parameters: {'fit_intercept': False}. Best is trial 0 with value: 0.41413494811376.\n"
     ]
    },
    {
     "name": "stdout",
     "output_type": "stream",
     "text": [
      "Trial MAE: 0.41413494811376\n",
      "Linear Regression Best Parameters: {'fit_intercept': False}\n",
      "Linear Regression Best MAE: 0.41413494811376\n",
      "[8.14742559 6.62476349 7.77681919 ... 6.72557449 7.86332508 7.2187166 ]\n"
     ]
    }
   ],
   "source": [
    "import optuna\n",
    "from sklearn.linear_model import LinearRegression\n",
    "from sklearn.pipeline import Pipeline\n",
    "from sklearn.model_selection import cross_val_score\n",
    "\n",
    "def objective_linear_regression(trial):\n",
    "    # LinearRegression does not have many hyperparameters to tune, but we can still create a pipeline\n",
    "    param = {\n",
    "        'fit_intercept': trial.suggest_categorical('fit_intercept', [True, False])\n",
    "    }\n",
    "    \n",
    "    # Create a pipeline with the final transformer and LinearRegression\n",
    "    model = LinearRegression(**param)\n",
    "    pipeline = Pipeline([\n",
    "        ('final_transform', final_pipeline),\n",
    "        ('linear_regression', model)\n",
    "    ])\n",
    "\n",
    "    # Perform cross-validation with error handling\n",
    "    try:\n",
    "        scores = cross_val_score(pipeline, X, Y, cv=5, scoring='neg_mean_absolute_error', error_score='raise')\n",
    "        mae = -scores.mean()\n",
    "        print(f\"Trial MAE: {mae}\")\n",
    "    except Exception as e:\n",
    "        print(f\"Error during cross-validation: {e}\")\n",
    "        mae = float('inf')  # Assign a high error value if an exception occurs\n",
    "\n",
    "    return mae\n",
    "\n",
    "study_linear_regression = optuna.create_study(direction='minimize')\n",
    "study_linear_regression.optimize(objective_linear_regression, n_trials=50)\n",
    "\n",
    "print(\"Linear Regression Best Parameters:\", study_linear_regression.best_params)\n",
    "print(\"Linear Regression Best MAE:\", study_linear_regression.best_value)\n",
    "\n",
    "# Extract the best model\n",
    "best_params = study_linear_regression.best_params\n",
    "best_model = LinearRegression(**best_params)\n",
    "best_pipeline = Pipeline([\n",
    "    ('final_transform', final_pipeline),\n",
    "    ('linear_regression', best_model)\n",
    "])\n",
    "\n",
    "# Fit the best pipeline on the entire dataset\n",
    "best_pipeline.fit(X, Y)\n",
    "\n",
    "# Now you can use best_pipeline for predictions\n",
    "predictions = best_pipeline.predict(X)\n",
    "print(predictions)"
   ]
  },
  {
   "cell_type": "code",
   "execution_count": 55,
   "id": "e050c49b",
   "metadata": {},
   "outputs": [
    {
     "name": "stdout",
     "output_type": "stream",
     "text": [
      "                                Feature   Coefficient  Absolute_Coefficient\n",
      "8   onehot__Outlet_Location_Type_Tier 3 -8.764891e+09          8.764891e+09\n",
      "7   onehot__Outlet_Location_Type_Tier 2 -8.764891e+09          8.764891e+09\n",
      "6   onehot__Outlet_Location_Type_Tier 1 -8.764891e+09          8.764891e+09\n",
      "12          onehot__Item_Fat_Content_LF -8.764735e+09          8.764735e+09\n",
      "13         onehot__Item_Fat_Content_REG -8.764735e+09          8.764735e+09\n",
      "11                  onehot__Category_NC -8.764199e+09          8.764199e+09\n",
      "14       onehot__Item_Fat_Content_nofat -8.763889e+09          8.763889e+09\n",
      "10                  onehot__Category_FD -8.763352e+09          8.763352e+09\n",
      "9                   onehot__Category_DR -8.763352e+09          8.763352e+09\n",
      "17            onehot__Outlet_Size_Small -8.762929e+09          8.762929e+09\n"
     ]
    }
   ],
   "source": [
    "# Get the feature names from the preprocessor\n",
    "feature_names = final_pipeline.named_steps['preprocessor'].get_feature_names_out()\n",
    "\n",
    "# Get the coefficients from the linear regression model\n",
    "coefficients = best_model.coef_\n",
    "\n",
    "# Create a DataFrame to hold feature names and their corresponding coefficients\n",
    "feature_importance = pd.DataFrame({\n",
    "    'Feature': feature_names,\n",
    "    'Coefficient': coefficients\n",
    "})\n",
    "\n",
    "# Sort the DataFrame by the absolute value of the coefficients in descending order\n",
    "feature_importance['Absolute_Coefficient'] = feature_importance['Coefficient'].abs()\n",
    "feature_importance = feature_importance.sort_values(by='Absolute_Coefficient', ascending=False)\n",
    "\n",
    "# Print the top 10 most important features\n",
    "print(feature_importance.head(10))"
   ]
  }
 ],
 "metadata": {
  "kernelspec": {
   "display_name": "Python 3",
   "language": "python",
   "name": "python3"
  },
  "language_info": {
   "codemirror_mode": {
    "name": "ipython",
    "version": 3
   },
   "file_extension": ".py",
   "mimetype": "text/x-python",
   "name": "python",
   "nbconvert_exporter": "python",
   "pygments_lexer": "ipython3",
   "version": "3.12.5"
  }
 },
 "nbformat": 4,
 "nbformat_minor": 5
}
