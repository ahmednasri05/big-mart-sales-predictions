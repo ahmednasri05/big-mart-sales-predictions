{
 "cells": [
  {
   "cell_type": "code",
   "execution_count": 1,
   "id": "f291f5b9-7669-434d-af42-c722d2b56ab3",
   "metadata": {},
   "outputs": [],
   "source": [
    "%matplotlib inline\n",
    "import numpy as np\n",
    "import pandas as pd\n",
    "import matplotlib.pyplot as plt\n",
    "import seaborn as sns\n",
    "from sklearn.model_selection import train_test_split\n",
    "from sklearn.preprocessing import MinMaxScaler\n",
    "from sklearn.impute import KNNImputer\n",
    "from sklearn.impute import SimpleImputer\n",
    "from sklearn.pipeline import Pipeline\n",
    "from sklearn.compose import ColumnTransformer\n",
    "from xgboost import XGBRegressor\n",
    "from sklearn.preprocessing import LabelEncoder\n",
    "from sklearn.preprocessing import OrdinalEncoder\n",
    "from sklearn.preprocessing import OneHotEncoder\n",
    "from category_encoders import TargetEncoder\n",
    "from sklearn.pipeline import FeatureUnion\n",
    "from sklearn.model_selection import cross_val_score\n",
    "from catboost import CatBoostRegressor\n",
    "from sklearn.model_selection import GridSearchCV\n",
    "from sklearn.model_selection import RandomizedSearchCV\n",
    "from sklearn.preprocessing import StandardScaler\n",
    "import lightgbm as lgb\n",
    "from sklearn.metrics import mean_absolute_error\n",
    "from sklearn.linear_model import LinearRegression\n",
    "from sklearn.feature_selection import mutual_info_regression\n",
    "from sklearn.model_selection import RandomizedSearchCV\n",
    "import optuna\n",
    "from optuna.integration import OptunaSearchCV\n",
    "from sklearn.base import BaseEstimator, TransformerMixin\n",
    "from collections import defaultdict"
   ]
  },
  {
   "cell_type": "code",
   "execution_count": 2,
   "id": "da26a227",
   "metadata": {},
   "outputs": [],
   "source": [
    "data = pd.read_csv(\"named_train.csv\")"
   ]
  },
  {
   "cell_type": "code",
   "execution_count": 3,
   "id": "e3980279",
   "metadata": {},
   "outputs": [],
   "source": [
    "X = data.drop(columns=[\"Y\"])"
   ]
  },
  {
   "cell_type": "code",
   "execution_count": 4,
   "id": "da5e6def",
   "metadata": {},
   "outputs": [],
   "source": [
    "Y = data[\"Y\"]"
   ]
  },
  {
   "cell_type": "code",
   "execution_count": 5,
   "id": "4a6ba815",
   "metadata": {},
   "outputs": [],
   "source": [
    "class ItemWeightImputer(BaseEstimator, TransformerMixin):\n",
    "    def __init__(self):\n",
    "        self.item_weight_mode = defaultdict(lambda: None)  # Stores mode of Item_Weight per Item_Identifier\n",
    "        self.global_mean = None  # Fallback global mean for Item_Weight\n",
    "\n",
    "    def fit(self, X, y=None):\n",
    "        X = X.copy()\n",
    "\n",
    "        # Ensure the required columns exist\n",
    "        if 'Item_Identifier' not in X.columns or 'Item_Weight' not in X.columns:\n",
    "            raise ValueError(\"Both 'Item_Identifier' and 'Item_Weight' columns must be present in the dataset.\")\n",
    "\n",
    "        # Ensure no None values in Item_Identifier\n",
    "        if X['Item_Identifier'].isnull().any():\n",
    "            raise ValueError(\"Item_Identifier column contains None values.\")\n",
    "\n",
    "        # Calculate mode Item_Weight for each Item_Identifier\n",
    "        item_weight_mode = X.groupby('Item_Identifier')['Item_Weight'].agg(lambda x: x.mode().iloc[0] if not x.mode().empty else np.nan)\n",
    "        self.item_weight_mode.update(item_weight_mode.to_dict())\n",
    "\n",
    "        # Calculate global mean for the Item_Weight column\n",
    "        if X['Item_Weight'].notnull().any():\n",
    "            self.global_mean = X['Item_Weight'].mean()\n",
    "        else:\n",
    "            raise ValueError(\"Item_Weight column contains only NaN values.\")\n",
    "\n",
    "        return self\n",
    "\n",
    "    def transform(self, X):\n",
    "        X = X.copy()\n",
    "\n",
    "        # Ensure the required columns exist\n",
    "        if 'Item_Identifier' not in X.columns or 'Item_Weight' not in X.columns:\n",
    "            raise ValueError(\"Both 'Item_Identifier' and 'Item_Weight' columns must be present in the dataset.\")\n",
    "\n",
    "        # Ensure no None values in Item_Identifier\n",
    "        if X['Item_Identifier'].isnull().any():\n",
    "            raise ValueError(\"Item_Identifier column contains None values.\")\n",
    "\n",
    "        # Safely impute NaN Item_Weights based on Item_Identifier or global mean\n",
    "        X['Item_Weight'] = X.apply(\n",
    "            lambda row: self.item_weight_mode.get(row['Item_Identifier'], self.global_mean)\n",
    "            if pd.isnull(row['Item_Weight'])\n",
    "            else row['Item_Weight'],\n",
    "            axis=1\n",
    "        )\n",
    "\n",
    "        X['Item_Weight'] = X['Item_Weight'].fillna(self.global_mean)\n",
    "\n",
    "        return X[['Item_Weight']]"
   ]
  },
  {
   "cell_type": "code",
   "execution_count": 6,
   "id": "a2711efb",
   "metadata": {},
   "outputs": [],
   "source": [
    "class VisibilityZerosImputer(BaseEstimator, TransformerMixin):\n",
    "    def __init__(self):\n",
    "        self.item_visibility_mean = defaultdict(lambda: None)  # Stores mean of Item_Visibility per Item_Identifier\n",
    "        self.global_mean = None  # Fallback global mean for Item_Visibility\n",
    "\n",
    "    def fit(self, X, y=None):\n",
    "        X = X.copy()\n",
    "\n",
    "        # Ensure the required columns exist\n",
    "        if 'Item_Identifier' not in X.columns or 'Item_Visibility' not in X.columns:\n",
    "            raise ValueError(\"Both 'Item_Identifier' and 'Item_Visibility' columns must be present in the dataset.\")\n",
    "\n",
    "        # Ensure no None values in Item_Identifier\n",
    "        if X['Item_Identifier'].isnull().any():\n",
    "            raise ValueError(\"Item_Identifier column contains None values.\")\n",
    "\n",
    "        # Calculate mean Item_Visibility for each Item_Identifier\n",
    "        item_visibility_mean = X.groupby('Item_Identifier')['Item_Visibility'].mean()\n",
    "        self.item_visibility_mean.update(item_visibility_mean.to_dict())\n",
    "\n",
    "        # Calculate global mean for the Item_Visibility column\n",
    "        if X['Item_Visibility'].notnull().any():\n",
    "            self.global_mean = X['Item_Visibility'].mean()\n",
    "        else:\n",
    "            raise ValueError(\"Item_Visibility column contains only NaN values.\")\n",
    "\n",
    "        return self\n",
    "\n",
    "    def transform(self, X):\n",
    "        X = X.copy()\n",
    "\n",
    "        # Ensure the required columns exist\n",
    "        if 'Item_Identifier' not in X.columns or 'Item_Visibility' not in X.columns:\n",
    "            raise ValueError(\"Both 'Item_Identifier' and 'Item_Visibility' columns must be present in the dataset.\")\n",
    "\n",
    "        # Ensure no None values in Item_Identifier\n",
    "        if X['Item_Identifier'].isnull().any():\n",
    "            raise ValueError(\"Item_Identifier column contains None values.\")\n",
    "\n",
    "        # Safely impute zero Item_Visibility based on Item_Identifier or global mean\n",
    "        X['Item_Visibility'] = X.apply(\n",
    "            lambda row: self.item_visibility_mean.get(row['Item_Identifier'], self.global_mean)\n",
    "            if row['Item_Visibility'] == 0\n",
    "            else row['Item_Visibility'],\n",
    "            axis=1\n",
    "        )\n",
    "\n",
    "        X['Item_Visibility'] = X['Item_Visibility'].replace(0, self.global_mean)\n",
    "        X['Item_Visibility'] = np.sqrt(X['Item_Visibility'])\n",
    "\n",
    "        return X[['Item_Visibility']]"
   ]
  },
  {
   "cell_type": "code",
   "execution_count": 7,
   "id": "1e8e096b",
   "metadata": {},
   "outputs": [],
   "source": [
    "X['Category'] = X['Item_Identifier'].str[:2]"
   ]
  },
  {
   "cell_type": "code",
   "execution_count": 8,
   "id": "68dc3d84",
   "metadata": {},
   "outputs": [],
   "source": [
    "X[\"Item_Fat_Content\"] = X[\"Item_Fat_Content\"].replace({\"low fat\": \"LF\", \"Low Fat\": \"LF\", \"Regular\": \"REG\", \"reg\": \"REG\"})\n",
    "X.loc[X['Category'] == 'NC', 'Item_Fat_Content'] = 'nofat'"
   ]
  },
  {
   "cell_type": "code",
   "execution_count": 9,
   "id": "133ba92f",
   "metadata": {},
   "outputs": [],
   "source": [
    "X['age'] = 2024 - X['Outlet_Establishment_Year']"
   ]
  },
  {
   "cell_type": "code",
   "execution_count": 10,
   "id": "d2abf0f8",
   "metadata": {},
   "outputs": [],
   "source": [
    "impute_sizes = {\n",
    "    \"OUT010\": \"Small\",\n",
    "    \"OUT017\": \"Small\",\n",
    "    \"OUT045\": \"Medium\"\n",
    "}\n",
    "X['Outlet_Size'] = X.apply(\n",
    "    lambda row: impute_sizes[row['Outlet_Identifier']] if pd.isnull(row['Outlet_Size']) else row['Outlet_Size'], axis=1\n",
    ")"
   ]
  },
  {
   "cell_type": "code",
   "execution_count": 11,
   "id": "24a6d667",
   "metadata": {},
   "outputs": [],
   "source": [
    "X['MRP_cluster']=pd.cut(X[\"Item_MRP\"],bins=[25,69,137,203,270],labels=['very low','low','high','very high'],right=True)"
   ]
  },
  {
   "cell_type": "code",
   "execution_count": 12,
   "id": "566f0d32",
   "metadata": {},
   "outputs": [],
   "source": [
    "weight_imputer =  ItemWeightImputer()"
   ]
  },
  {
   "cell_type": "code",
   "execution_count": 13,
   "id": "9b8bd751",
   "metadata": {},
   "outputs": [],
   "source": [
    "X[\"Item_Weight\"] = weight_imputer.fit_transform(X)\n"
   ]
  },
  {
   "cell_type": "code",
   "execution_count": 14,
   "id": "0f85febc",
   "metadata": {},
   "outputs": [],
   "source": [
    "X[\"Weight_per_Unit_MRP\"] = X[\"Item_Weight\"] / X[\"Item_MRP\"]"
   ]
  },
  {
   "cell_type": "code",
   "execution_count": 15,
   "id": "f7050746",
   "metadata": {},
   "outputs": [],
   "source": [
    "X['MRP_cluster']=pd.cut(X[\"Item_MRP\"],bins=[25,69,137,203,270],labels=['very low','low','high','very high'],right=True)"
   ]
  },
  {
   "cell_type": "code",
   "execution_count": 16,
   "id": "f8bcabce",
   "metadata": {},
   "outputs": [],
   "source": [
    "X['Item_Type_Outlet_Type'] = X['Item_Type'] + \"_\" + X['Outlet_Type']\n",
    "X['Item_Fat_Content_Outlet_Type'] = X['Item_Fat_Content'] + \"_\" + X['Outlet_Type']\n",
    "X['Outlet_Size_Outlet_Location_Type'] = X['Outlet_Size'] + \"_\" + X['Outlet_Location_Type']\n",
    "X['Item_Type_Item_Fat_Content'] = X['Item_Type'] + \"_\" + X['Item_Fat_Content']\n",
    "X['Outlet_Type_Outlet_Location_Type'] = X['Outlet_Type'] + \"_\" + X['Outlet_Location_Type']\n",
    "\n",
    "# Numerical × Numerical Interactions\n",
    "X['Item_MRP_Outlet_Establishment_Year'] = X['Item_MRP'] * X['Outlet_Establishment_Year']\n",
    "X['Item_MRP_Item_Visibility'] = X['Item_MRP'] * X['Item_Visibility']\n",
    "X['Years_Operating_Outlet_Type'] = X['age'] * X['Outlet_Type'].apply(lambda x: hash(x) % 1000) \n",
    "X['Outlet_Identifier_Years_Operating'] = X['Outlet_Identifier'].apply(lambda x: hash(x) % 1000) * X['age']\n",
    "\n",
    "# Numerical × Categorical Interactions\n",
    "X['Item_Visibility_Item_Type'] = X['Item_Visibility'] * X['Item_Type'].apply(lambda x: hash(x) % 1000)"
   ]
  },
  {
   "cell_type": "code",
   "execution_count": 26,
   "id": "cde2a515",
   "metadata": {},
   "outputs": [
    {
     "data": {
      "text/html": [
       "<div>\n",
       "<style scoped>\n",
       "    .dataframe tbody tr th:only-of-type {\n",
       "        vertical-align: middle;\n",
       "    }\n",
       "\n",
       "    .dataframe tbody tr th {\n",
       "        vertical-align: top;\n",
       "    }\n",
       "\n",
       "    .dataframe thead th {\n",
       "        text-align: right;\n",
       "    }\n",
       "</style>\n",
       "<table border=\"1\" class=\"dataframe\">\n",
       "  <thead>\n",
       "    <tr style=\"text-align: right;\">\n",
       "      <th></th>\n",
       "      <th>Item_Identifier</th>\n",
       "      <th>Item_Weight</th>\n",
       "      <th>Item_Fat_Content</th>\n",
       "      <th>Item_Visibility</th>\n",
       "      <th>Item_Type</th>\n",
       "      <th>Item_MRP</th>\n",
       "      <th>Outlet_Identifier</th>\n",
       "      <th>Outlet_Establishment_Year</th>\n",
       "      <th>Outlet_Size</th>\n",
       "      <th>Outlet_Location_Type</th>\n",
       "      <th>...</th>\n",
       "      <th>Item_Type_Outlet_Type</th>\n",
       "      <th>Item_Fat_Content_Outlet_Type</th>\n",
       "      <th>Outlet_Size_Outlet_Location_Type</th>\n",
       "      <th>Item_Type_Item_Fat_Content</th>\n",
       "      <th>Outlet_Type_Outlet_Location_Type</th>\n",
       "      <th>Item_MRP_Outlet_Establishment_Year</th>\n",
       "      <th>Item_MRP_Item_Visibility</th>\n",
       "      <th>Years_Operating_Outlet_Type</th>\n",
       "      <th>Outlet_Identifier_Years_Operating</th>\n",
       "      <th>Item_Visibility_Item_Type</th>\n",
       "    </tr>\n",
       "  </thead>\n",
       "  <tbody>\n",
       "    <tr>\n",
       "      <th>0</th>\n",
       "      <td>FDA15</td>\n",
       "      <td>9.300</td>\n",
       "      <td>LF</td>\n",
       "      <td>0.016047</td>\n",
       "      <td>Dairy</td>\n",
       "      <td>249.8092</td>\n",
       "      <td>OUT049</td>\n",
       "      <td>1999</td>\n",
       "      <td>Medium</td>\n",
       "      <td>Tier 1</td>\n",
       "      <td>...</td>\n",
       "      <td>Dairy_Supermarket Type1</td>\n",
       "      <td>LF_Supermarket Type1</td>\n",
       "      <td>Medium_Tier 1</td>\n",
       "      <td>Dairy_LF</td>\n",
       "      <td>Supermarket Type1_Tier 1</td>\n",
       "      <td>499368.5908</td>\n",
       "      <td>4.008763</td>\n",
       "      <td>10025</td>\n",
       "      <td>14425</td>\n",
       "      <td>13.094598</td>\n",
       "    </tr>\n",
       "    <tr>\n",
       "      <th>1</th>\n",
       "      <td>DRC01</td>\n",
       "      <td>5.920</td>\n",
       "      <td>REG</td>\n",
       "      <td>0.019278</td>\n",
       "      <td>Soft Drinks</td>\n",
       "      <td>48.2692</td>\n",
       "      <td>OUT018</td>\n",
       "      <td>2009</td>\n",
       "      <td>Medium</td>\n",
       "      <td>Tier 3</td>\n",
       "      <td>...</td>\n",
       "      <td>Soft Drinks_Supermarket Type2</td>\n",
       "      <td>REG_Supermarket Type2</td>\n",
       "      <td>Medium_Tier 3</td>\n",
       "      <td>Soft Drinks_REG</td>\n",
       "      <td>Supermarket Type2_Tier 3</td>\n",
       "      <td>96972.8228</td>\n",
       "      <td>0.930544</td>\n",
       "      <td>420</td>\n",
       "      <td>2775</td>\n",
       "      <td>6.014803</td>\n",
       "    </tr>\n",
       "    <tr>\n",
       "      <th>2</th>\n",
       "      <td>FDN15</td>\n",
       "      <td>17.500</td>\n",
       "      <td>LF</td>\n",
       "      <td>0.016760</td>\n",
       "      <td>Meat</td>\n",
       "      <td>141.6180</td>\n",
       "      <td>OUT049</td>\n",
       "      <td>1999</td>\n",
       "      <td>Medium</td>\n",
       "      <td>Tier 1</td>\n",
       "      <td>...</td>\n",
       "      <td>Meat_Supermarket Type1</td>\n",
       "      <td>LF_Supermarket Type1</td>\n",
       "      <td>Medium_Tier 1</td>\n",
       "      <td>Meat_LF</td>\n",
       "      <td>Supermarket Type1_Tier 1</td>\n",
       "      <td>283094.3820</td>\n",
       "      <td>2.373528</td>\n",
       "      <td>10025</td>\n",
       "      <td>14425</td>\n",
       "      <td>5.195623</td>\n",
       "    </tr>\n",
       "    <tr>\n",
       "      <th>3</th>\n",
       "      <td>FDX07</td>\n",
       "      <td>19.200</td>\n",
       "      <td>REG</td>\n",
       "      <td>0.000000</td>\n",
       "      <td>Fruits and Vegetables</td>\n",
       "      <td>182.0950</td>\n",
       "      <td>OUT010</td>\n",
       "      <td>1998</td>\n",
       "      <td>Small</td>\n",
       "      <td>Tier 3</td>\n",
       "      <td>...</td>\n",
       "      <td>Fruits and Vegetables_Grocery Store</td>\n",
       "      <td>REG_Grocery Store</td>\n",
       "      <td>Small_Tier 3</td>\n",
       "      <td>Fruits and Vegetables_REG</td>\n",
       "      <td>Grocery Store_Tier 3</td>\n",
       "      <td>363825.8100</td>\n",
       "      <td>0.000000</td>\n",
       "      <td>12402</td>\n",
       "      <td>10374</td>\n",
       "      <td>0.000000</td>\n",
       "    </tr>\n",
       "    <tr>\n",
       "      <th>4</th>\n",
       "      <td>NCD19</td>\n",
       "      <td>8.930</td>\n",
       "      <td>nofat</td>\n",
       "      <td>0.000000</td>\n",
       "      <td>Household</td>\n",
       "      <td>53.8614</td>\n",
       "      <td>OUT013</td>\n",
       "      <td>1987</td>\n",
       "      <td>High</td>\n",
       "      <td>Tier 3</td>\n",
       "      <td>...</td>\n",
       "      <td>Household_Supermarket Type1</td>\n",
       "      <td>nofat_Supermarket Type1</td>\n",
       "      <td>High_Tier 3</td>\n",
       "      <td>Household_nofat</td>\n",
       "      <td>Supermarket Type1_Tier 3</td>\n",
       "      <td>107022.6018</td>\n",
       "      <td>0.000000</td>\n",
       "      <td>14837</td>\n",
       "      <td>21053</td>\n",
       "      <td>0.000000</td>\n",
       "    </tr>\n",
       "    <tr>\n",
       "      <th>...</th>\n",
       "      <td>...</td>\n",
       "      <td>...</td>\n",
       "      <td>...</td>\n",
       "      <td>...</td>\n",
       "      <td>...</td>\n",
       "      <td>...</td>\n",
       "      <td>...</td>\n",
       "      <td>...</td>\n",
       "      <td>...</td>\n",
       "      <td>...</td>\n",
       "      <td>...</td>\n",
       "      <td>...</td>\n",
       "      <td>...</td>\n",
       "      <td>...</td>\n",
       "      <td>...</td>\n",
       "      <td>...</td>\n",
       "      <td>...</td>\n",
       "      <td>...</td>\n",
       "      <td>...</td>\n",
       "      <td>...</td>\n",
       "      <td>...</td>\n",
       "    </tr>\n",
       "    <tr>\n",
       "      <th>5995</th>\n",
       "      <td>FDB32</td>\n",
       "      <td>20.600</td>\n",
       "      <td>LF</td>\n",
       "      <td>0.023586</td>\n",
       "      <td>Fruits and Vegetables</td>\n",
       "      <td>94.7778</td>\n",
       "      <td>OUT017</td>\n",
       "      <td>2007</td>\n",
       "      <td>Small</td>\n",
       "      <td>Tier 2</td>\n",
       "      <td>...</td>\n",
       "      <td>Fruits and Vegetables_Supermarket Type1</td>\n",
       "      <td>LF_Supermarket Type1</td>\n",
       "      <td>Small_Tier 2</td>\n",
       "      <td>Fruits and Vegetables_LF</td>\n",
       "      <td>Supermarket Type1_Tier 2</td>\n",
       "      <td>190219.0446</td>\n",
       "      <td>2.235391</td>\n",
       "      <td>6817</td>\n",
       "      <td>10965</td>\n",
       "      <td>0.377370</td>\n",
       "    </tr>\n",
       "    <tr>\n",
       "      <th>5996</th>\n",
       "      <td>FDJ16</td>\n",
       "      <td>9.195</td>\n",
       "      <td>LF</td>\n",
       "      <td>0.115064</td>\n",
       "      <td>Frozen Foods</td>\n",
       "      <td>58.6246</td>\n",
       "      <td>OUT049</td>\n",
       "      <td>1999</td>\n",
       "      <td>Medium</td>\n",
       "      <td>Tier 1</td>\n",
       "      <td>...</td>\n",
       "      <td>Frozen Foods_Supermarket Type1</td>\n",
       "      <td>LF_Supermarket Type1</td>\n",
       "      <td>Medium_Tier 1</td>\n",
       "      <td>Frozen Foods_LF</td>\n",
       "      <td>Supermarket Type1_Tier 1</td>\n",
       "      <td>117190.5754</td>\n",
       "      <td>6.745596</td>\n",
       "      <td>10025</td>\n",
       "      <td>14425</td>\n",
       "      <td>39.812235</td>\n",
       "    </tr>\n",
       "    <tr>\n",
       "      <th>5997</th>\n",
       "      <td>FDJ32</td>\n",
       "      <td>10.695</td>\n",
       "      <td>LF</td>\n",
       "      <td>0.057910</td>\n",
       "      <td>Fruits and Vegetables</td>\n",
       "      <td>60.4536</td>\n",
       "      <td>OUT045</td>\n",
       "      <td>2002</td>\n",
       "      <td>Medium</td>\n",
       "      <td>Tier 2</td>\n",
       "      <td>...</td>\n",
       "      <td>Fruits and Vegetables_Supermarket Type1</td>\n",
       "      <td>LF_Supermarket Type1</td>\n",
       "      <td>Medium_Tier 2</td>\n",
       "      <td>Fruits and Vegetables_LF</td>\n",
       "      <td>Supermarket Type1_Tier 2</td>\n",
       "      <td>121028.1072</td>\n",
       "      <td>3.500841</td>\n",
       "      <td>8822</td>\n",
       "      <td>15070</td>\n",
       "      <td>0.926553</td>\n",
       "    </tr>\n",
       "    <tr>\n",
       "      <th>5998</th>\n",
       "      <td>FDO12</td>\n",
       "      <td>15.750</td>\n",
       "      <td>LF</td>\n",
       "      <td>0.054920</td>\n",
       "      <td>Baking Goods</td>\n",
       "      <td>195.8452</td>\n",
       "      <td>OUT035</td>\n",
       "      <td>2004</td>\n",
       "      <td>Small</td>\n",
       "      <td>Tier 2</td>\n",
       "      <td>...</td>\n",
       "      <td>Baking Goods_Supermarket Type1</td>\n",
       "      <td>LF_Supermarket Type1</td>\n",
       "      <td>Small_Tier 2</td>\n",
       "      <td>Baking Goods_LF</td>\n",
       "      <td>Supermarket Type1_Tier 2</td>\n",
       "      <td>392473.7808</td>\n",
       "      <td>10.755847</td>\n",
       "      <td>8020</td>\n",
       "      <td>19220</td>\n",
       "      <td>22.956621</td>\n",
       "    </tr>\n",
       "    <tr>\n",
       "      <th>5999</th>\n",
       "      <td>NCB18</td>\n",
       "      <td>19.600</td>\n",
       "      <td>nofat</td>\n",
       "      <td>0.041291</td>\n",
       "      <td>Household</td>\n",
       "      <td>86.9514</td>\n",
       "      <td>OUT046</td>\n",
       "      <td>1997</td>\n",
       "      <td>Small</td>\n",
       "      <td>Tier 1</td>\n",
       "      <td>...</td>\n",
       "      <td>Household_Supermarket Type1</td>\n",
       "      <td>nofat_Supermarket Type1</td>\n",
       "      <td>Small_Tier 1</td>\n",
       "      <td>Household_nofat</td>\n",
       "      <td>Supermarket Type1_Tier 1</td>\n",
       "      <td>173641.9458</td>\n",
       "      <td>3.590325</td>\n",
       "      <td>10827</td>\n",
       "      <td>12015</td>\n",
       "      <td>32.083238</td>\n",
       "    </tr>\n",
       "  </tbody>\n",
       "</table>\n",
       "<p>6000 rows × 25 columns</p>\n",
       "</div>"
      ],
      "text/plain": [
       "     Item_Identifier  Item_Weight Item_Fat_Content  Item_Visibility  \\\n",
       "0              FDA15        9.300               LF         0.016047   \n",
       "1              DRC01        5.920              REG         0.019278   \n",
       "2              FDN15       17.500               LF         0.016760   \n",
       "3              FDX07       19.200              REG         0.000000   \n",
       "4              NCD19        8.930            nofat         0.000000   \n",
       "...              ...          ...              ...              ...   \n",
       "5995           FDB32       20.600               LF         0.023586   \n",
       "5996           FDJ16        9.195               LF         0.115064   \n",
       "5997           FDJ32       10.695               LF         0.057910   \n",
       "5998           FDO12       15.750               LF         0.054920   \n",
       "5999           NCB18       19.600            nofat         0.041291   \n",
       "\n",
       "                  Item_Type  Item_MRP Outlet_Identifier  \\\n",
       "0                     Dairy  249.8092            OUT049   \n",
       "1               Soft Drinks   48.2692            OUT018   \n",
       "2                      Meat  141.6180            OUT049   \n",
       "3     Fruits and Vegetables  182.0950            OUT010   \n",
       "4                 Household   53.8614            OUT013   \n",
       "...                     ...       ...               ...   \n",
       "5995  Fruits and Vegetables   94.7778            OUT017   \n",
       "5996           Frozen Foods   58.6246            OUT049   \n",
       "5997  Fruits and Vegetables   60.4536            OUT045   \n",
       "5998           Baking Goods  195.8452            OUT035   \n",
       "5999              Household   86.9514            OUT046   \n",
       "\n",
       "      Outlet_Establishment_Year Outlet_Size Outlet_Location_Type  ...  \\\n",
       "0                          1999      Medium               Tier 1  ...   \n",
       "1                          2009      Medium               Tier 3  ...   \n",
       "2                          1999      Medium               Tier 1  ...   \n",
       "3                          1998       Small               Tier 3  ...   \n",
       "4                          1987        High               Tier 3  ...   \n",
       "...                         ...         ...                  ...  ...   \n",
       "5995                       2007       Small               Tier 2  ...   \n",
       "5996                       1999      Medium               Tier 1  ...   \n",
       "5997                       2002      Medium               Tier 2  ...   \n",
       "5998                       2004       Small               Tier 2  ...   \n",
       "5999                       1997       Small               Tier 1  ...   \n",
       "\n",
       "                        Item_Type_Outlet_Type Item_Fat_Content_Outlet_Type  \\\n",
       "0                     Dairy_Supermarket Type1         LF_Supermarket Type1   \n",
       "1               Soft Drinks_Supermarket Type2        REG_Supermarket Type2   \n",
       "2                      Meat_Supermarket Type1         LF_Supermarket Type1   \n",
       "3         Fruits and Vegetables_Grocery Store            REG_Grocery Store   \n",
       "4                 Household_Supermarket Type1      nofat_Supermarket Type1   \n",
       "...                                       ...                          ...   \n",
       "5995  Fruits and Vegetables_Supermarket Type1         LF_Supermarket Type1   \n",
       "5996           Frozen Foods_Supermarket Type1         LF_Supermarket Type1   \n",
       "5997  Fruits and Vegetables_Supermarket Type1         LF_Supermarket Type1   \n",
       "5998           Baking Goods_Supermarket Type1         LF_Supermarket Type1   \n",
       "5999              Household_Supermarket Type1      nofat_Supermarket Type1   \n",
       "\n",
       "      Outlet_Size_Outlet_Location_Type Item_Type_Item_Fat_Content  \\\n",
       "0                        Medium_Tier 1                   Dairy_LF   \n",
       "1                        Medium_Tier 3            Soft Drinks_REG   \n",
       "2                        Medium_Tier 1                    Meat_LF   \n",
       "3                         Small_Tier 3  Fruits and Vegetables_REG   \n",
       "4                          High_Tier 3            Household_nofat   \n",
       "...                                ...                        ...   \n",
       "5995                      Small_Tier 2   Fruits and Vegetables_LF   \n",
       "5996                     Medium_Tier 1            Frozen Foods_LF   \n",
       "5997                     Medium_Tier 2   Fruits and Vegetables_LF   \n",
       "5998                      Small_Tier 2            Baking Goods_LF   \n",
       "5999                      Small_Tier 1            Household_nofat   \n",
       "\n",
       "      Outlet_Type_Outlet_Location_Type Item_MRP_Outlet_Establishment_Year  \\\n",
       "0             Supermarket Type1_Tier 1                        499368.5908   \n",
       "1             Supermarket Type2_Tier 3                         96972.8228   \n",
       "2             Supermarket Type1_Tier 1                        283094.3820   \n",
       "3                 Grocery Store_Tier 3                        363825.8100   \n",
       "4             Supermarket Type1_Tier 3                        107022.6018   \n",
       "...                                ...                                ...   \n",
       "5995          Supermarket Type1_Tier 2                        190219.0446   \n",
       "5996          Supermarket Type1_Tier 1                        117190.5754   \n",
       "5997          Supermarket Type1_Tier 2                        121028.1072   \n",
       "5998          Supermarket Type1_Tier 2                        392473.7808   \n",
       "5999          Supermarket Type1_Tier 1                        173641.9458   \n",
       "\n",
       "     Item_MRP_Item_Visibility Years_Operating_Outlet_Type  \\\n",
       "0                    4.008763                       10025   \n",
       "1                    0.930544                         420   \n",
       "2                    2.373528                       10025   \n",
       "3                    0.000000                       12402   \n",
       "4                    0.000000                       14837   \n",
       "...                       ...                         ...   \n",
       "5995                 2.235391                        6817   \n",
       "5996                 6.745596                       10025   \n",
       "5997                 3.500841                        8822   \n",
       "5998                10.755847                        8020   \n",
       "5999                 3.590325                       10827   \n",
       "\n",
       "     Outlet_Identifier_Years_Operating Item_Visibility_Item_Type  \n",
       "0                                14425                 13.094598  \n",
       "1                                 2775                  6.014803  \n",
       "2                                14425                  5.195623  \n",
       "3                                10374                  0.000000  \n",
       "4                                21053                  0.000000  \n",
       "...                                ...                       ...  \n",
       "5995                             10965                  0.377370  \n",
       "5996                             14425                 39.812235  \n",
       "5997                             15070                  0.926553  \n",
       "5998                             19220                 22.956621  \n",
       "5999                             12015                 32.083238  \n",
       "\n",
       "[6000 rows x 25 columns]"
      ]
     },
     "execution_count": 26,
     "metadata": {},
     "output_type": "execute_result"
    }
   ],
   "source": [
    "X"
   ]
  },
  {
   "cell_type": "code",
   "execution_count": 22,
   "id": "92c09570",
   "metadata": {},
   "outputs": [],
   "source": [
    "# Define the columns for each type of transformation\n",
    "numerical_cols = [\"Item_Weight\", \"Weight_per_Unit_MRP\", \"Item_Visibility\", \"Item_MRP_Outlet_Establishment_Year\", \"Item_MRP_Item_Visibility\", \"Years_Operating_Outlet_Type\", \"Outlet_Identifier_Years_Operating\", \"Item_Visibility_Item_Type\"]\n",
    "one_hot_columns = [\"Outlet_Location_Type\", \"Category\", \"Item_Fat_Content\", \"Outlet_Size\", \"Outlet_Type\", \"Item_Type_Outlet_Type\", \"Item_Fat_Content_Outlet_Type\", \"Outlet_Size_Outlet_Location_Type\", \"Item_Type_Item_Fat_Content\", \"Outlet_Type_Outlet_Location_Type\"]\n",
    "target_encoder_cols = ['Item_Identifier','Item_Type', 'Outlet_Identifier']\n",
    "ordinal_categories = [['very low', 'low', 'high', 'very high']]\n",
    "\n",
    "# Numerical pipeline\n",
    "numerical_pipeline = Pipeline([\n",
    "    (\"mean_imputer\", SimpleImputer(strategy='mean')),\n",
    "    (\"scaler\", StandardScaler())\n",
    "])\n",
    "\n",
    "#Target encoding pipeline\n",
    "target_encoding_pipeline = Pipeline([\n",
    "    (\"target_encoder\", TargetEncoder(cols=target_encoder_cols, smoothing=0.5))\n",
    "])\n",
    "\n",
    "# One-hot encoding pipeline\n",
    "onehot_transform_pipeline = Pipeline([\n",
    "    (\"imputer\", SimpleImputer(strategy=\"most_frequent\")),\n",
    "    (\"onehot\", OneHotEncoder(handle_unknown=\"ignore\", sparse_output=False))\n",
    "])\n",
    "\n",
    "# Ordinal encoding pipeline\n",
    "ordinal_pipeline = Pipeline([\n",
    "    (\"imputer\", SimpleImputer(strategy=\"most_frequent\")),\n",
    "    (\"ordinal\", OrdinalEncoder(categories=ordinal_categories))\n",
    "])\n",
    "\n",
    "# Combine all pipelines into a ColumnTransformer\n",
    "preprocessor = ColumnTransformer([\n",
    "    (\"num\", numerical_pipeline, numerical_cols),\n",
    "    (\"target_encoder\", target_encoding_pipeline, target_encoder_cols),\n",
    "    (\"onehot\", onehot_transform_pipeline, one_hot_columns),\n",
    "    (\"ordinal\", ordinal_pipeline, [\"MRP_cluster\"])\n",
    "])\n",
    "\n",
    "# Final pipeline\n",
    "final_pipeline = Pipeline([\n",
    "    (\"preprocessor\", preprocessor)\n",
    "])\n"
   ]
  },
  {
   "cell_type": "code",
   "execution_count": 27,
   "id": "15a36f99",
   "metadata": {},
   "outputs": [
    {
     "name": "stderr",
     "output_type": "stream",
     "text": [
      "[I 2024-12-28 01:58:01,978] A new study created in memory with name: no-name-abf34214-65b0-4fa5-876e-a78c6e1a8e86\n",
      "[I 2024-12-28 01:58:13,222] Trial 0 finished with value: 0.4214555321282167 and parameters: {'C': 77.10979784959987, 'epsilon': 0.2665413533584772, 'kernel': 'rbf', 'gamma': 'auto'}. Best is trial 0 with value: 0.4214555321282167.\n"
     ]
    },
    {
     "name": "stdout",
     "output_type": "stream",
     "text": [
      "Trial MAE: 0.4214555321282167\n"
     ]
    },
    {
     "name": "stderr",
     "output_type": "stream",
     "text": [
      "[I 2024-12-28 01:59:26,930] Trial 1 finished with value: 0.4320385936813132 and parameters: {'C': 64.31884001534831, 'epsilon': 0.777798910797332, 'kernel': 'linear', 'gamma': 'auto'}. Best is trial 0 with value: 0.4214555321282167.\n"
     ]
    },
    {
     "name": "stdout",
     "output_type": "stream",
     "text": [
      "Trial MAE: 0.4320385936813132\n"
     ]
    },
    {
     "name": "stderr",
     "output_type": "stream",
     "text": [
      "[I 2024-12-28 01:59:42,845] Trial 2 finished with value: 0.44315085463953724 and parameters: {'C': 93.73792908770996, 'epsilon': 0.4847977686785702, 'kernel': 'poly', 'degree': 5, 'gamma': 'scale'}. Best is trial 0 with value: 0.4214555321282167.\n"
     ]
    },
    {
     "name": "stdout",
     "output_type": "stream",
     "text": [
      "Trial MAE: 0.44315085463953724\n"
     ]
    },
    {
     "name": "stderr",
     "output_type": "stream",
     "text": [
      "[I 2024-12-28 01:59:52,637] Trial 3 finished with value: 0.4258156968015525 and parameters: {'C': 94.33144250246599, 'epsilon': 0.40775045821969635, 'kernel': 'rbf', 'gamma': 'auto'}. Best is trial 0 with value: 0.4214555321282167.\n"
     ]
    },
    {
     "name": "stdout",
     "output_type": "stream",
     "text": [
      "Trial MAE: 0.4258156968015525\n"
     ]
    },
    {
     "name": "stderr",
     "output_type": "stream",
     "text": [
      "[I 2024-12-28 02:00:02,361] Trial 4 finished with value: 26.769838126020495 and parameters: {'C': 86.30404770829756, 'epsilon': 0.39739802786421813, 'kernel': 'sigmoid', 'gamma': 'scale'}. Best is trial 0 with value: 0.4214555321282167.\n"
     ]
    },
    {
     "name": "stdout",
     "output_type": "stream",
     "text": [
      "Trial MAE: 26.769838126020495\n"
     ]
    },
    {
     "name": "stderr",
     "output_type": "stream",
     "text": [
      "[I 2024-12-28 02:00:12,738] Trial 5 finished with value: 0.4059916188349114 and parameters: {'C': 6.062738709449914, 'epsilon': 0.0588950225490227, 'kernel': 'rbf', 'gamma': 'auto'}. Best is trial 5 with value: 0.4059916188349114.\n"
     ]
    },
    {
     "name": "stdout",
     "output_type": "stream",
     "text": [
      "Trial MAE: 0.4059916188349114\n"
     ]
    },
    {
     "name": "stderr",
     "output_type": "stream",
     "text": [
      "[I 2024-12-28 02:00:32,487] Trial 6 finished with value: 0.42340064066077715 and parameters: {'C': 41.534235635538984, 'epsilon': 0.07833891978057485, 'kernel': 'poly', 'degree': 4, 'gamma': 'scale'}. Best is trial 5 with value: 0.4059916188349114.\n"
     ]
    },
    {
     "name": "stdout",
     "output_type": "stream",
     "text": [
      "Trial MAE: 0.42340064066077715\n"
     ]
    },
    {
     "name": "stderr",
     "output_type": "stream",
     "text": [
      "[I 2024-12-28 02:00:34,985] Trial 7 finished with value: 0.4509455780664787 and parameters: {'C': 31.28421185995635, 'epsilon': 0.8155359959670846, 'kernel': 'poly', 'degree': 3, 'gamma': 'auto'}. Best is trial 5 with value: 0.4059916188349114.\n"
     ]
    },
    {
     "name": "stdout",
     "output_type": "stream",
     "text": [
      "Trial MAE: 0.4509455780664787\n"
     ]
    },
    {
     "name": "stderr",
     "output_type": "stream",
     "text": [
      "[I 2024-12-28 02:00:45,543] Trial 8 finished with value: 0.42259265084610337 and parameters: {'C': 73.03757729610832, 'epsilon': 0.37194809652391775, 'kernel': 'rbf', 'gamma': 'auto'}. Best is trial 5 with value: 0.4059916188349114.\n"
     ]
    },
    {
     "name": "stdout",
     "output_type": "stream",
     "text": [
      "Trial MAE: 0.42259265084610337\n"
     ]
    },
    {
     "name": "stderr",
     "output_type": "stream",
     "text": [
      "[I 2024-12-28 02:00:53,286] Trial 9 finished with value: 18.088750584945213 and parameters: {'C': 58.322168741219336, 'epsilon': 0.27603631933922745, 'kernel': 'sigmoid', 'gamma': 'scale'}. Best is trial 5 with value: 0.4059916188349114.\n"
     ]
    },
    {
     "name": "stdout",
     "output_type": "stream",
     "text": [
      "Trial MAE: 18.088750584945213\n"
     ]
    },
    {
     "name": "stderr",
     "output_type": "stream",
     "text": [
      "[I 2024-12-28 02:01:51,291] Trial 10 finished with value: 0.40834920989296436 and parameters: {'C': 5.758059650675468, 'epsilon': 0.061779292926026186, 'kernel': 'linear', 'gamma': 'auto'}. Best is trial 5 with value: 0.4059916188349114.\n"
     ]
    },
    {
     "name": "stdout",
     "output_type": "stream",
     "text": [
      "Trial MAE: 0.40834920989296436\n"
     ]
    },
    {
     "name": "stderr",
     "output_type": "stream",
     "text": [
      "[I 2024-12-28 02:02:06,402] Trial 11 finished with value: 0.4082066459861443 and parameters: {'C': 0.6885840461961212, 'epsilon': 0.01006197442412135, 'kernel': 'linear', 'gamma': 'auto'}. Best is trial 5 with value: 0.4059916188349114.\n"
     ]
    },
    {
     "name": "stdout",
     "output_type": "stream",
     "text": [
      "Trial MAE: 0.4082066459861443\n"
     ]
    },
    {
     "name": "stderr",
     "output_type": "stream",
     "text": [
      "[I 2024-12-28 02:02:19,016] Trial 12 finished with value: 0.4081658119606192 and parameters: {'C': 0.42265349744593933, 'epsilon': 0.015828766056381574, 'kernel': 'linear', 'gamma': 'auto'}. Best is trial 5 with value: 0.4059916188349114.\n"
     ]
    },
    {
     "name": "stdout",
     "output_type": "stream",
     "text": [
      "Trial MAE: 0.4081658119606192\n"
     ]
    },
    {
     "name": "stderr",
     "output_type": "stream",
     "text": [
      "[I 2024-12-28 02:04:15,031] Trial 13 finished with value: 0.41035478818399707 and parameters: {'C': 18.233567127416205, 'epsilon': 0.19338851122880912, 'kernel': 'linear', 'gamma': 'auto'}. Best is trial 5 with value: 0.4059916188349114.\n"
     ]
    },
    {
     "name": "stdout",
     "output_type": "stream",
     "text": [
      "Trial MAE: 0.41035478818399707\n"
     ]
    },
    {
     "name": "stderr",
     "output_type": "stream",
     "text": [
      "[I 2024-12-28 02:04:16,465] Trial 14 finished with value: 0.48766810944685995 and parameters: {'C': 21.125587291065347, 'epsilon': 0.9928887375374049, 'kernel': 'rbf', 'gamma': 'auto'}. Best is trial 5 with value: 0.4059916188349114.\n"
     ]
    },
    {
     "name": "stdout",
     "output_type": "stream",
     "text": [
      "Trial MAE: 0.48766810944685995\n"
     ]
    },
    {
     "name": "stderr",
     "output_type": "stream",
     "text": [
      "[I 2024-12-28 02:05:50,007] Trial 15 finished with value: 0.40963105558751883 and parameters: {'C': 13.941998631909206, 'epsilon': 0.15995986709268972, 'kernel': 'linear', 'gamma': 'auto'}. Best is trial 5 with value: 0.4059916188349114.\n"
     ]
    },
    {
     "name": "stdout",
     "output_type": "stream",
     "text": [
      "Trial MAE: 0.40963105558751883\n"
     ]
    },
    {
     "name": "stderr",
     "output_type": "stream",
     "text": [
      "[I 2024-12-28 02:05:54,291] Trial 16 finished with value: 0.42515549430405575 and parameters: {'C': 36.50643350183964, 'epsilon': 0.6117026970480445, 'kernel': 'rbf', 'gamma': 'auto'}. Best is trial 5 with value: 0.4059916188349114.\n"
     ]
    },
    {
     "name": "stdout",
     "output_type": "stream",
     "text": [
      "Trial MAE: 0.42515549430405575\n"
     ]
    },
    {
     "name": "stderr",
     "output_type": "stream",
     "text": [
      "[I 2024-12-28 02:06:04,697] Trial 17 finished with value: 9.578162401262743 and parameters: {'C': 25.91549244656273, 'epsilon': 0.16109911511373343, 'kernel': 'sigmoid', 'gamma': 'auto'}. Best is trial 5 with value: 0.4059916188349114.\n"
     ]
    },
    {
     "name": "stdout",
     "output_type": "stream",
     "text": [
      "Trial MAE: 9.578162401262743\n"
     ]
    },
    {
     "name": "stderr",
     "output_type": "stream",
     "text": [
      "[I 2024-12-28 02:06:29,802] Trial 18 finished with value: 0.4167910620908676 and parameters: {'C': 8.01633615494192, 'epsilon': 0.5678619833806107, 'kernel': 'linear', 'gamma': 'scale'}. Best is trial 5 with value: 0.4059916188349114.\n"
     ]
    },
    {
     "name": "stdout",
     "output_type": "stream",
     "text": [
      "Trial MAE: 0.4167910620908676\n"
     ]
    },
    {
     "name": "stderr",
     "output_type": "stream",
     "text": [
      "[I 2024-12-28 02:06:41,156] Trial 19 finished with value: 0.41785785797189334 and parameters: {'C': 48.310470664774044, 'epsilon': 0.2647266996745715, 'kernel': 'rbf', 'gamma': 'auto'}. Best is trial 5 with value: 0.4059916188349114.\n"
     ]
    },
    {
     "name": "stdout",
     "output_type": "stream",
     "text": [
      "Trial MAE: 0.41785785797189334\n"
     ]
    },
    {
     "name": "stderr",
     "output_type": "stream",
     "text": [
      "[I 2024-12-28 02:06:58,809] Trial 20 finished with value: 0.40911662881826494 and parameters: {'C': 1.1680329609038687, 'epsilon': 0.10385435358477768, 'kernel': 'linear', 'gamma': 'auto'}. Best is trial 5 with value: 0.4059916188349114.\n"
     ]
    },
    {
     "name": "stdout",
     "output_type": "stream",
     "text": [
      "Trial MAE: 0.40911662881826494\n"
     ]
    },
    {
     "name": "stderr",
     "output_type": "stream",
     "text": [
      "[I 2024-12-28 02:07:15,597] Trial 21 finished with value: 0.40836986349660737 and parameters: {'C': 0.90197157264598, 'epsilon': 0.04375760546843227, 'kernel': 'linear', 'gamma': 'auto'}. Best is trial 5 with value: 0.4059916188349114.\n"
     ]
    },
    {
     "name": "stdout",
     "output_type": "stream",
     "text": [
      "Trial MAE: 0.40836986349660737\n"
     ]
    },
    {
     "name": "stderr",
     "output_type": "stream",
     "text": [
      "[I 2024-12-28 02:09:03,042] Trial 22 finished with value: 0.4081849006504523 and parameters: {'C': 11.472928047081624, 'epsilon': 0.01436482104243553, 'kernel': 'linear', 'gamma': 'auto'}. Best is trial 5 with value: 0.4059916188349114.\n"
     ]
    },
    {
     "name": "stdout",
     "output_type": "stream",
     "text": [
      "Trial MAE: 0.4081849006504523\n"
     ]
    },
    {
     "name": "stderr",
     "output_type": "stream",
     "text": [
      "[I 2024-12-28 02:10:32,168] Trial 23 finished with value: 0.40959646200351385 and parameters: {'C': 12.319726584328627, 'epsilon': 0.16236337341089233, 'kernel': 'linear', 'gamma': 'auto'}. Best is trial 5 with value: 0.4059916188349114.\n"
     ]
    },
    {
     "name": "stdout",
     "output_type": "stream",
     "text": [
      "Trial MAE: 0.40959646200351385\n"
     ]
    },
    {
     "name": "stderr",
     "output_type": "stream",
     "text": [
      "[I 2024-12-28 02:12:45,702] Trial 24 finished with value: 0.408308311557415 and parameters: {'C': 20.084600748626123, 'epsilon': 0.013948812956270984, 'kernel': 'linear', 'gamma': 'auto'}. Best is trial 5 with value: 0.4059916188349114.\n"
     ]
    },
    {
     "name": "stdout",
     "output_type": "stream",
     "text": [
      "Trial MAE: 0.408308311557415\n"
     ]
    },
    {
     "name": "stderr",
     "output_type": "stream",
     "text": [
      "[I 2024-12-28 02:12:54,662] Trial 25 finished with value: 0.41399569950476245 and parameters: {'C': 27.56600836202587, 'epsilon': 0.11127361377042905, 'kernel': 'rbf', 'gamma': 'auto'}. Best is trial 5 with value: 0.4059916188349114.\n"
     ]
    },
    {
     "name": "stdout",
     "output_type": "stream",
     "text": [
      "Trial MAE: 0.41399569950476245\n"
     ]
    },
    {
     "name": "stderr",
     "output_type": "stream",
     "text": [
      "[I 2024-12-28 02:12:58,946] Trial 26 finished with value: 0.4073471385479797 and parameters: {'C': 12.2221012705219, 'epsilon': 0.2414893803246754, 'kernel': 'poly', 'degree': 2, 'gamma': 'scale'}. Best is trial 5 with value: 0.4059916188349114.\n"
     ]
    },
    {
     "name": "stdout",
     "output_type": "stream",
     "text": [
      "Trial MAE: 0.4073471385479797\n"
     ]
    },
    {
     "name": "stderr",
     "output_type": "stream",
     "text": [
      "[I 2024-12-28 02:13:04,486] Trial 27 finished with value: 0.411306168719773 and parameters: {'C': 40.342367757073, 'epsilon': 0.2979831130297814, 'kernel': 'poly', 'degree': 2, 'gamma': 'scale'}. Best is trial 5 with value: 0.4059916188349114.\n"
     ]
    },
    {
     "name": "stdout",
     "output_type": "stream",
     "text": [
      "Trial MAE: 0.411306168719773\n"
     ]
    },
    {
     "name": "stderr",
     "output_type": "stream",
     "text": [
      "[I 2024-12-28 02:13:08,717] Trial 28 finished with value: 0.4053540068336095 and parameters: {'C': 7.312466579439736, 'epsilon': 0.1983150137545809, 'kernel': 'poly', 'degree': 2, 'gamma': 'scale'}. Best is trial 28 with value: 0.4053540068336095.\n"
     ]
    },
    {
     "name": "stdout",
     "output_type": "stream",
     "text": [
      "Trial MAE: 0.4053540068336095\n"
     ]
    },
    {
     "name": "stderr",
     "output_type": "stream",
     "text": [
      "[I 2024-12-28 02:13:14,632] Trial 29 finished with value: 0.41034974778549627 and parameters: {'C': 32.71534968175675, 'epsilon': 0.2268530310394822, 'kernel': 'poly', 'degree': 2, 'gamma': 'scale'}. Best is trial 28 with value: 0.4053540068336095.\n"
     ]
    },
    {
     "name": "stdout",
     "output_type": "stream",
     "text": [
      "Trial MAE: 0.41034974778549627\n"
     ]
    },
    {
     "name": "stderr",
     "output_type": "stream",
     "text": [
      "[I 2024-12-28 02:13:18,289] Trial 30 finished with value: 0.40909678244173103 and parameters: {'C': 17.089733234835094, 'epsilon': 0.3444426429545555, 'kernel': 'poly', 'degree': 2, 'gamma': 'scale'}. Best is trial 28 with value: 0.4053540068336095.\n"
     ]
    },
    {
     "name": "stdout",
     "output_type": "stream",
     "text": [
      "Trial MAE: 0.40909678244173103\n"
     ]
    },
    {
     "name": "stderr",
     "output_type": "stream",
     "text": [
      "[I 2024-12-28 02:13:23,411] Trial 31 finished with value: 0.4058268662195232 and parameters: {'C': 5.489194896122922, 'epsilon': 0.11848247655288345, 'kernel': 'poly', 'degree': 3, 'gamma': 'scale'}. Best is trial 28 with value: 0.4053540068336095.\n"
     ]
    },
    {
     "name": "stdout",
     "output_type": "stream",
     "text": [
      "Trial MAE: 0.4058268662195232\n"
     ]
    },
    {
     "name": "stderr",
     "output_type": "stream",
     "text": [
      "[I 2024-12-28 02:13:27,741] Trial 32 finished with value: 0.4087984921812013 and parameters: {'C': 8.055614735437043, 'epsilon': 0.2356649400643677, 'kernel': 'poly', 'degree': 3, 'gamma': 'scale'}. Best is trial 28 with value: 0.4053540068336095.\n"
     ]
    },
    {
     "name": "stdout",
     "output_type": "stream",
     "text": [
      "Trial MAE: 0.4087984921812013\n"
     ]
    },
    {
     "name": "stderr",
     "output_type": "stream",
     "text": [
      "[I 2024-12-28 02:13:35,282] Trial 33 finished with value: 0.413185605742889 and parameters: {'C': 23.897195443522953, 'epsilon': 0.136800251350977, 'kernel': 'poly', 'degree': 3, 'gamma': 'scale'}. Best is trial 28 with value: 0.4053540068336095.\n"
     ]
    },
    {
     "name": "stdout",
     "output_type": "stream",
     "text": [
      "Trial MAE: 0.413185605742889\n"
     ]
    },
    {
     "name": "stderr",
     "output_type": "stream",
     "text": [
      "[I 2024-12-28 02:13:38,571] Trial 34 finished with value: 0.40523677373570344 and parameters: {'C': 6.499796200843558, 'epsilon': 0.3025450326599465, 'kernel': 'poly', 'degree': 2, 'gamma': 'scale'}. Best is trial 34 with value: 0.40523677373570344.\n"
     ]
    },
    {
     "name": "stdout",
     "output_type": "stream",
     "text": [
      "Trial MAE: 0.40523677373570344\n"
     ]
    },
    {
     "name": "stderr",
     "output_type": "stream",
     "text": [
      "[I 2024-12-28 02:13:41,258] Trial 35 finished with value: 0.41197479951864013 and parameters: {'C': 8.93895273693847, 'epsilon': 0.46518962871191377, 'kernel': 'poly', 'degree': 3, 'gamma': 'scale'}. Best is trial 34 with value: 0.40523677373570344.\n"
     ]
    },
    {
     "name": "stdout",
     "output_type": "stream",
     "text": [
      "Trial MAE: 0.41197479951864013\n"
     ]
    },
    {
     "name": "stderr",
     "output_type": "stream",
     "text": [
      "[I 2024-12-28 02:13:45,350] Trial 36 finished with value: 0.4080799741274405 and parameters: {'C': 16.2137327458861, 'epsilon': 0.312189864594723, 'kernel': 'poly', 'degree': 2, 'gamma': 'scale'}. Best is trial 34 with value: 0.40523677373570344.\n"
     ]
    },
    {
     "name": "stdout",
     "output_type": "stream",
     "text": [
      "Trial MAE: 0.4080799741274405\n"
     ]
    },
    {
     "name": "stderr",
     "output_type": "stream",
     "text": [
      "[I 2024-12-28 02:13:48,236] Trial 37 finished with value: 0.41200071616088446 and parameters: {'C': 5.574930170621857, 'epsilon': 0.4414274342786234, 'kernel': 'poly', 'degree': 4, 'gamma': 'scale'}. Best is trial 34 with value: 0.40523677373570344.\n"
     ]
    },
    {
     "name": "stdout",
     "output_type": "stream",
     "text": [
      "Trial MAE: 0.41200071616088446\n"
     ]
    },
    {
     "name": "stderr",
     "output_type": "stream",
     "text": [
      "[I 2024-12-28 02:13:56,909] Trial 38 finished with value: 0.4132029924263942 and parameters: {'C': 63.20089453741948, 'epsilon': 0.20647457208835548, 'kernel': 'poly', 'degree': 2, 'gamma': 'scale'}. Best is trial 34 with value: 0.40523677373570344.\n"
     ]
    },
    {
     "name": "stdout",
     "output_type": "stream",
     "text": [
      "Trial MAE: 0.4132029924263942\n"
     ]
    },
    {
     "name": "stderr",
     "output_type": "stream",
     "text": [
      "[I 2024-12-28 02:14:04,132] Trial 39 finished with value: 26.919823197267647 and parameters: {'C': 86.76621879277633, 'epsilon': 0.09673512470240353, 'kernel': 'sigmoid', 'gamma': 'scale'}. Best is trial 34 with value: 0.40523677373570344.\n"
     ]
    },
    {
     "name": "stdout",
     "output_type": "stream",
     "text": [
      "Trial MAE: 26.919823197267647\n"
     ]
    },
    {
     "name": "stderr",
     "output_type": "stream",
     "text": [
      "[I 2024-12-28 03:01:43,538] Trial 40 finished with value: 0.4215127124268581 and parameters: {'C': 49.942829188935086, 'epsilon': 0.5397864684488087, 'kernel': 'rbf', 'gamma': 'scale'}. Best is trial 34 with value: 0.40523677373570344.\n"
     ]
    },
    {
     "name": "stdout",
     "output_type": "stream",
     "text": [
      "Trial MAE: 0.4215127124268581\n"
     ]
    },
    {
     "name": "stderr",
     "output_type": "stream",
     "text": [
      "[I 2024-12-28 07:19:43,547] Trial 41 finished with value: 0.4051280600504568 and parameters: {'C': 5.396515587082291, 'epsilon': 0.3357744808400312, 'kernel': 'poly', 'degree': 2, 'gamma': 'scale'}. Best is trial 41 with value: 0.4051280600504568.\n"
     ]
    },
    {
     "name": "stdout",
     "output_type": "stream",
     "text": [
      "Trial MAE: 0.4051280600504568\n"
     ]
    },
    {
     "name": "stderr",
     "output_type": "stream",
     "text": [
      "[I 2024-12-28 09:09:58,274] Trial 42 finished with value: 0.40518131342463704 and parameters: {'C': 4.878171655372802, 'epsilon': 0.3595959459745432, 'kernel': 'poly', 'degree': 2, 'gamma': 'scale'}. Best is trial 41 with value: 0.4051280600504568.\n"
     ]
    },
    {
     "name": "stdout",
     "output_type": "stream",
     "text": [
      "Trial MAE: 0.40518131342463704\n"
     ]
    },
    {
     "name": "stderr",
     "output_type": "stream",
     "text": [
      "[I 2024-12-28 09:13:46,050] Trial 43 finished with value: 0.40529829241432075 and parameters: {'C': 3.8396057585183727, 'epsilon': 0.4008696910029216, 'kernel': 'poly', 'degree': 2, 'gamma': 'scale'}. Best is trial 41 with value: 0.4051280600504568.\n"
     ]
    },
    {
     "name": "stdout",
     "output_type": "stream",
     "text": [
      "Trial MAE: 0.40529829241432075\n"
     ]
    },
    {
     "name": "stderr",
     "output_type": "stream",
     "text": [
      "[I 2024-12-28 09:13:56,489] Trial 44 finished with value: 0.4086889787076123 and parameters: {'C': 13.551142920753605, 'epsilon': 0.40646046737228425, 'kernel': 'poly', 'degree': 2, 'gamma': 'scale'}. Best is trial 41 with value: 0.4051280600504568.\n"
     ]
    },
    {
     "name": "stdout",
     "output_type": "stream",
     "text": [
      "Trial MAE: 0.4086889787076123\n"
     ]
    },
    {
     "name": "stderr",
     "output_type": "stream",
     "text": [
      "[I 2024-12-28 09:14:02,393] Trial 45 finished with value: 0.4044536731889476 and parameters: {'C': 3.867424947798011, 'epsilon': 0.34724774976860173, 'kernel': 'poly', 'degree': 2, 'gamma': 'scale'}. Best is trial 45 with value: 0.4044536731889476.\n"
     ]
    },
    {
     "name": "stdout",
     "output_type": "stream",
     "text": [
      "Trial MAE: 0.4044536731889476\n"
     ]
    },
    {
     "name": "stderr",
     "output_type": "stream",
     "text": [
      "[I 2024-12-28 09:14:08,513] Trial 46 finished with value: 0.4034886261445075 and parameters: {'C': 2.6311460970378824, 'epsilon': 0.35225148545949075, 'kernel': 'poly', 'degree': 2, 'gamma': 'scale'}. Best is trial 46 with value: 0.4034886261445075.\n"
     ]
    },
    {
     "name": "stdout",
     "output_type": "stream",
     "text": [
      "Trial MAE: 0.4034886261445075\n"
     ]
    },
    {
     "name": "stderr",
     "output_type": "stream",
     "text": [
      "[I 2024-12-28 09:14:22,560] Trial 47 finished with value: 0.41512956026043735 and parameters: {'C': 74.30174615653905, 'epsilon': 0.3398289947787215, 'kernel': 'poly', 'degree': 2, 'gamma': 'scale'}. Best is trial 46 with value: 0.4034886261445075.\n"
     ]
    },
    {
     "name": "stdout",
     "output_type": "stream",
     "text": [
      "Trial MAE: 0.41512956026043735\n"
     ]
    },
    {
     "name": "stderr",
     "output_type": "stream",
     "text": [
      "[I 2024-12-28 09:14:27,882] Trial 48 finished with value: 0.4130430629557454 and parameters: {'C': 23.22839298013828, 'epsilon': 0.5195120350646354, 'kernel': 'poly', 'degree': 2, 'gamma': 'scale'}. Best is trial 46 with value: 0.4034886261445075.\n"
     ]
    },
    {
     "name": "stdout",
     "output_type": "stream",
     "text": [
      "Trial MAE: 0.4130430629557454\n"
     ]
    },
    {
     "name": "stderr",
     "output_type": "stream",
     "text": [
      "[I 2024-12-28 09:14:31,323] Trial 49 finished with value: 0.4162954861493575 and parameters: {'C': 18.01181560651542, 'epsilon': 0.623247864971045, 'kernel': 'poly', 'degree': 2, 'gamma': 'scale'}. Best is trial 46 with value: 0.4034886261445075.\n"
     ]
    },
    {
     "name": "stdout",
     "output_type": "stream",
     "text": [
      "Trial MAE: 0.4162954861493575\n",
      "SVR Best Parameters: {'C': 2.6311460970378824, 'epsilon': 0.35225148545949075, 'kernel': 'poly', 'degree': 2, 'gamma': 'scale'}\n",
      "SVR Best MAE: 0.4034886261445075\n"
     ]
    }
   ],
   "source": [
    "import optuna\n",
    "from sklearn.svm import SVR\n",
    "from sklearn.pipeline import Pipeline\n",
    "from sklearn.model_selection import cross_val_score\n",
    "\n",
    "def objective_svr(trial):\n",
    "    param = {\n",
    "        'C': trial.suggest_float('C', 0.1, 100.0),\n",
    "        'epsilon': trial.suggest_float('epsilon', 0.01, 1.0),\n",
    "        'kernel': trial.suggest_categorical('kernel', ['linear', 'poly', 'rbf', 'sigmoid']),\n",
    "        'degree': trial.suggest_int('degree', 2, 5) if trial.suggest_categorical('kernel', ['linear', 'poly', 'rbf', 'sigmoid']) == 'poly' else 3,\n",
    "        'gamma': trial.suggest_categorical('gamma', ['scale', 'auto'])\n",
    "    }\n",
    "    \n",
    "    # Create a pipeline with the final transformer and SVR\n",
    "    model = SVR(**param)\n",
    "    pipeline = Pipeline([\n",
    "        ('final_transform', final_pipeline),\n",
    "        ('svr', model)\n",
    "    ])\n",
    "\n",
    "    # Perform cross-validation with error handling\n",
    "    try:\n",
    "        scores = cross_val_score(pipeline, X, Y, cv=5, scoring='neg_mean_absolute_error', error_score='raise')\n",
    "        mae = -scores.mean()\n",
    "        print(f\"Trial MAE: {mae}\")\n",
    "    except Exception as e:\n",
    "        print(f\"Error during cross-validation: {e}\")\n",
    "        mae = float('inf')  # Assign a high error value if an exception occurs\n",
    "\n",
    "    return mae\n",
    "\n",
    "study_svr = optuna.create_study(direction='minimize')\n",
    "study_svr.optimize(objective_svr, n_trials=50)\n",
    "\n",
    "print(\"SVR Best Parameters:\", study_svr.best_params)\n",
    "print(\"SVR Best MAE:\", study_svr.best_value)"
   ]
  },
  {
   "cell_type": "code",
   "execution_count": 32,
   "id": "4fded8d7",
   "metadata": {},
   "outputs": [
    {
     "data": {
      "text/html": [
       "<style>#sk-container-id-1 {\n",
       "  /* Definition of color scheme common for light and dark mode */\n",
       "  --sklearn-color-text: black;\n",
       "  --sklearn-color-line: gray;\n",
       "  /* Definition of color scheme for unfitted estimators */\n",
       "  --sklearn-color-unfitted-level-0: #fff5e6;\n",
       "  --sklearn-color-unfitted-level-1: #f6e4d2;\n",
       "  --sklearn-color-unfitted-level-2: #ffe0b3;\n",
       "  --sklearn-color-unfitted-level-3: chocolate;\n",
       "  /* Definition of color scheme for fitted estimators */\n",
       "  --sklearn-color-fitted-level-0: #f0f8ff;\n",
       "  --sklearn-color-fitted-level-1: #d4ebff;\n",
       "  --sklearn-color-fitted-level-2: #b3dbfd;\n",
       "  --sklearn-color-fitted-level-3: cornflowerblue;\n",
       "\n",
       "  /* Specific color for light theme */\n",
       "  --sklearn-color-text-on-default-background: var(--sg-text-color, var(--theme-code-foreground, var(--jp-content-font-color1, black)));\n",
       "  --sklearn-color-background: var(--sg-background-color, var(--theme-background, var(--jp-layout-color0, white)));\n",
       "  --sklearn-color-border-box: var(--sg-text-color, var(--theme-code-foreground, var(--jp-content-font-color1, black)));\n",
       "  --sklearn-color-icon: #696969;\n",
       "\n",
       "  @media (prefers-color-scheme: dark) {\n",
       "    /* Redefinition of color scheme for dark theme */\n",
       "    --sklearn-color-text-on-default-background: var(--sg-text-color, var(--theme-code-foreground, var(--jp-content-font-color1, white)));\n",
       "    --sklearn-color-background: var(--sg-background-color, var(--theme-background, var(--jp-layout-color0, #111)));\n",
       "    --sklearn-color-border-box: var(--sg-text-color, var(--theme-code-foreground, var(--jp-content-font-color1, white)));\n",
       "    --sklearn-color-icon: #878787;\n",
       "  }\n",
       "}\n",
       "\n",
       "#sk-container-id-1 {\n",
       "  color: var(--sklearn-color-text);\n",
       "}\n",
       "\n",
       "#sk-container-id-1 pre {\n",
       "  padding: 0;\n",
       "}\n",
       "\n",
       "#sk-container-id-1 input.sk-hidden--visually {\n",
       "  border: 0;\n",
       "  clip: rect(1px 1px 1px 1px);\n",
       "  clip: rect(1px, 1px, 1px, 1px);\n",
       "  height: 1px;\n",
       "  margin: -1px;\n",
       "  overflow: hidden;\n",
       "  padding: 0;\n",
       "  position: absolute;\n",
       "  width: 1px;\n",
       "}\n",
       "\n",
       "#sk-container-id-1 div.sk-dashed-wrapped {\n",
       "  border: 1px dashed var(--sklearn-color-line);\n",
       "  margin: 0 0.4em 0.5em 0.4em;\n",
       "  box-sizing: border-box;\n",
       "  padding-bottom: 0.4em;\n",
       "  background-color: var(--sklearn-color-background);\n",
       "}\n",
       "\n",
       "#sk-container-id-1 div.sk-container {\n",
       "  /* jupyter's `normalize.less` sets `[hidden] { display: none; }`\n",
       "     but bootstrap.min.css set `[hidden] { display: none !important; }`\n",
       "     so we also need the `!important` here to be able to override the\n",
       "     default hidden behavior on the sphinx rendered scikit-learn.org.\n",
       "     See: https://github.com/scikit-learn/scikit-learn/issues/21755 */\n",
       "  display: inline-block !important;\n",
       "  position: relative;\n",
       "}\n",
       "\n",
       "#sk-container-id-1 div.sk-text-repr-fallback {\n",
       "  display: none;\n",
       "}\n",
       "\n",
       "div.sk-parallel-item,\n",
       "div.sk-serial,\n",
       "div.sk-item {\n",
       "  /* draw centered vertical line to link estimators */\n",
       "  background-image: linear-gradient(var(--sklearn-color-text-on-default-background), var(--sklearn-color-text-on-default-background));\n",
       "  background-size: 2px 100%;\n",
       "  background-repeat: no-repeat;\n",
       "  background-position: center center;\n",
       "}\n",
       "\n",
       "/* Parallel-specific style estimator block */\n",
       "\n",
       "#sk-container-id-1 div.sk-parallel-item::after {\n",
       "  content: \"\";\n",
       "  width: 100%;\n",
       "  border-bottom: 2px solid var(--sklearn-color-text-on-default-background);\n",
       "  flex-grow: 1;\n",
       "}\n",
       "\n",
       "#sk-container-id-1 div.sk-parallel {\n",
       "  display: flex;\n",
       "  align-items: stretch;\n",
       "  justify-content: center;\n",
       "  background-color: var(--sklearn-color-background);\n",
       "  position: relative;\n",
       "}\n",
       "\n",
       "#sk-container-id-1 div.sk-parallel-item {\n",
       "  display: flex;\n",
       "  flex-direction: column;\n",
       "}\n",
       "\n",
       "#sk-container-id-1 div.sk-parallel-item:first-child::after {\n",
       "  align-self: flex-end;\n",
       "  width: 50%;\n",
       "}\n",
       "\n",
       "#sk-container-id-1 div.sk-parallel-item:last-child::after {\n",
       "  align-self: flex-start;\n",
       "  width: 50%;\n",
       "}\n",
       "\n",
       "#sk-container-id-1 div.sk-parallel-item:only-child::after {\n",
       "  width: 0;\n",
       "}\n",
       "\n",
       "/* Serial-specific style estimator block */\n",
       "\n",
       "#sk-container-id-1 div.sk-serial {\n",
       "  display: flex;\n",
       "  flex-direction: column;\n",
       "  align-items: center;\n",
       "  background-color: var(--sklearn-color-background);\n",
       "  padding-right: 1em;\n",
       "  padding-left: 1em;\n",
       "}\n",
       "\n",
       "\n",
       "/* Toggleable style: style used for estimator/Pipeline/ColumnTransformer box that is\n",
       "clickable and can be expanded/collapsed.\n",
       "- Pipeline and ColumnTransformer use this feature and define the default style\n",
       "- Estimators will overwrite some part of the style using the `sk-estimator` class\n",
       "*/\n",
       "\n",
       "/* Pipeline and ColumnTransformer style (default) */\n",
       "\n",
       "#sk-container-id-1 div.sk-toggleable {\n",
       "  /* Default theme specific background. It is overwritten whether we have a\n",
       "  specific estimator or a Pipeline/ColumnTransformer */\n",
       "  background-color: var(--sklearn-color-background);\n",
       "}\n",
       "\n",
       "/* Toggleable label */\n",
       "#sk-container-id-1 label.sk-toggleable__label {\n",
       "  cursor: pointer;\n",
       "  display: block;\n",
       "  width: 100%;\n",
       "  margin-bottom: 0;\n",
       "  padding: 0.5em;\n",
       "  box-sizing: border-box;\n",
       "  text-align: center;\n",
       "}\n",
       "\n",
       "#sk-container-id-1 label.sk-toggleable__label-arrow:before {\n",
       "  /* Arrow on the left of the label */\n",
       "  content: \"▸\";\n",
       "  float: left;\n",
       "  margin-right: 0.25em;\n",
       "  color: var(--sklearn-color-icon);\n",
       "}\n",
       "\n",
       "#sk-container-id-1 label.sk-toggleable__label-arrow:hover:before {\n",
       "  color: var(--sklearn-color-text);\n",
       "}\n",
       "\n",
       "/* Toggleable content - dropdown */\n",
       "\n",
       "#sk-container-id-1 div.sk-toggleable__content {\n",
       "  max-height: 0;\n",
       "  max-width: 0;\n",
       "  overflow: hidden;\n",
       "  text-align: left;\n",
       "  /* unfitted */\n",
       "  background-color: var(--sklearn-color-unfitted-level-0);\n",
       "}\n",
       "\n",
       "#sk-container-id-1 div.sk-toggleable__content.fitted {\n",
       "  /* fitted */\n",
       "  background-color: var(--sklearn-color-fitted-level-0);\n",
       "}\n",
       "\n",
       "#sk-container-id-1 div.sk-toggleable__content pre {\n",
       "  margin: 0.2em;\n",
       "  border-radius: 0.25em;\n",
       "  color: var(--sklearn-color-text);\n",
       "  /* unfitted */\n",
       "  background-color: var(--sklearn-color-unfitted-level-0);\n",
       "}\n",
       "\n",
       "#sk-container-id-1 div.sk-toggleable__content.fitted pre {\n",
       "  /* unfitted */\n",
       "  background-color: var(--sklearn-color-fitted-level-0);\n",
       "}\n",
       "\n",
       "#sk-container-id-1 input.sk-toggleable__control:checked~div.sk-toggleable__content {\n",
       "  /* Expand drop-down */\n",
       "  max-height: 200px;\n",
       "  max-width: 100%;\n",
       "  overflow: auto;\n",
       "}\n",
       "\n",
       "#sk-container-id-1 input.sk-toggleable__control:checked~label.sk-toggleable__label-arrow:before {\n",
       "  content: \"▾\";\n",
       "}\n",
       "\n",
       "/* Pipeline/ColumnTransformer-specific style */\n",
       "\n",
       "#sk-container-id-1 div.sk-label input.sk-toggleable__control:checked~label.sk-toggleable__label {\n",
       "  color: var(--sklearn-color-text);\n",
       "  background-color: var(--sklearn-color-unfitted-level-2);\n",
       "}\n",
       "\n",
       "#sk-container-id-1 div.sk-label.fitted input.sk-toggleable__control:checked~label.sk-toggleable__label {\n",
       "  background-color: var(--sklearn-color-fitted-level-2);\n",
       "}\n",
       "\n",
       "/* Estimator-specific style */\n",
       "\n",
       "/* Colorize estimator box */\n",
       "#sk-container-id-1 div.sk-estimator input.sk-toggleable__control:checked~label.sk-toggleable__label {\n",
       "  /* unfitted */\n",
       "  background-color: var(--sklearn-color-unfitted-level-2);\n",
       "}\n",
       "\n",
       "#sk-container-id-1 div.sk-estimator.fitted input.sk-toggleable__control:checked~label.sk-toggleable__label {\n",
       "  /* fitted */\n",
       "  background-color: var(--sklearn-color-fitted-level-2);\n",
       "}\n",
       "\n",
       "#sk-container-id-1 div.sk-label label.sk-toggleable__label,\n",
       "#sk-container-id-1 div.sk-label label {\n",
       "  /* The background is the default theme color */\n",
       "  color: var(--sklearn-color-text-on-default-background);\n",
       "}\n",
       "\n",
       "/* On hover, darken the color of the background */\n",
       "#sk-container-id-1 div.sk-label:hover label.sk-toggleable__label {\n",
       "  color: var(--sklearn-color-text);\n",
       "  background-color: var(--sklearn-color-unfitted-level-2);\n",
       "}\n",
       "\n",
       "/* Label box, darken color on hover, fitted */\n",
       "#sk-container-id-1 div.sk-label.fitted:hover label.sk-toggleable__label.fitted {\n",
       "  color: var(--sklearn-color-text);\n",
       "  background-color: var(--sklearn-color-fitted-level-2);\n",
       "}\n",
       "\n",
       "/* Estimator label */\n",
       "\n",
       "#sk-container-id-1 div.sk-label label {\n",
       "  font-family: monospace;\n",
       "  font-weight: bold;\n",
       "  display: inline-block;\n",
       "  line-height: 1.2em;\n",
       "}\n",
       "\n",
       "#sk-container-id-1 div.sk-label-container {\n",
       "  text-align: center;\n",
       "}\n",
       "\n",
       "/* Estimator-specific */\n",
       "#sk-container-id-1 div.sk-estimator {\n",
       "  font-family: monospace;\n",
       "  border: 1px dotted var(--sklearn-color-border-box);\n",
       "  border-radius: 0.25em;\n",
       "  box-sizing: border-box;\n",
       "  margin-bottom: 0.5em;\n",
       "  /* unfitted */\n",
       "  background-color: var(--sklearn-color-unfitted-level-0);\n",
       "}\n",
       "\n",
       "#sk-container-id-1 div.sk-estimator.fitted {\n",
       "  /* fitted */\n",
       "  background-color: var(--sklearn-color-fitted-level-0);\n",
       "}\n",
       "\n",
       "/* on hover */\n",
       "#sk-container-id-1 div.sk-estimator:hover {\n",
       "  /* unfitted */\n",
       "  background-color: var(--sklearn-color-unfitted-level-2);\n",
       "}\n",
       "\n",
       "#sk-container-id-1 div.sk-estimator.fitted:hover {\n",
       "  /* fitted */\n",
       "  background-color: var(--sklearn-color-fitted-level-2);\n",
       "}\n",
       "\n",
       "/* Specification for estimator info (e.g. \"i\" and \"?\") */\n",
       "\n",
       "/* Common style for \"i\" and \"?\" */\n",
       "\n",
       ".sk-estimator-doc-link,\n",
       "a:link.sk-estimator-doc-link,\n",
       "a:visited.sk-estimator-doc-link {\n",
       "  float: right;\n",
       "  font-size: smaller;\n",
       "  line-height: 1em;\n",
       "  font-family: monospace;\n",
       "  background-color: var(--sklearn-color-background);\n",
       "  border-radius: 1em;\n",
       "  height: 1em;\n",
       "  width: 1em;\n",
       "  text-decoration: none !important;\n",
       "  margin-left: 1ex;\n",
       "  /* unfitted */\n",
       "  border: var(--sklearn-color-unfitted-level-1) 1pt solid;\n",
       "  color: var(--sklearn-color-unfitted-level-1);\n",
       "}\n",
       "\n",
       ".sk-estimator-doc-link.fitted,\n",
       "a:link.sk-estimator-doc-link.fitted,\n",
       "a:visited.sk-estimator-doc-link.fitted {\n",
       "  /* fitted */\n",
       "  border: var(--sklearn-color-fitted-level-1) 1pt solid;\n",
       "  color: var(--sklearn-color-fitted-level-1);\n",
       "}\n",
       "\n",
       "/* On hover */\n",
       "div.sk-estimator:hover .sk-estimator-doc-link:hover,\n",
       ".sk-estimator-doc-link:hover,\n",
       "div.sk-label-container:hover .sk-estimator-doc-link:hover,\n",
       ".sk-estimator-doc-link:hover {\n",
       "  /* unfitted */\n",
       "  background-color: var(--sklearn-color-unfitted-level-3);\n",
       "  color: var(--sklearn-color-background);\n",
       "  text-decoration: none;\n",
       "}\n",
       "\n",
       "div.sk-estimator.fitted:hover .sk-estimator-doc-link.fitted:hover,\n",
       ".sk-estimator-doc-link.fitted:hover,\n",
       "div.sk-label-container:hover .sk-estimator-doc-link.fitted:hover,\n",
       ".sk-estimator-doc-link.fitted:hover {\n",
       "  /* fitted */\n",
       "  background-color: var(--sklearn-color-fitted-level-3);\n",
       "  color: var(--sklearn-color-background);\n",
       "  text-decoration: none;\n",
       "}\n",
       "\n",
       "/* Span, style for the box shown on hovering the info icon */\n",
       ".sk-estimator-doc-link span {\n",
       "  display: none;\n",
       "  z-index: 9999;\n",
       "  position: relative;\n",
       "  font-weight: normal;\n",
       "  right: .2ex;\n",
       "  padding: .5ex;\n",
       "  margin: .5ex;\n",
       "  width: min-content;\n",
       "  min-width: 20ex;\n",
       "  max-width: 50ex;\n",
       "  color: var(--sklearn-color-text);\n",
       "  box-shadow: 2pt 2pt 4pt #999;\n",
       "  /* unfitted */\n",
       "  background: var(--sklearn-color-unfitted-level-0);\n",
       "  border: .5pt solid var(--sklearn-color-unfitted-level-3);\n",
       "}\n",
       "\n",
       ".sk-estimator-doc-link.fitted span {\n",
       "  /* fitted */\n",
       "  background: var(--sklearn-color-fitted-level-0);\n",
       "  border: var(--sklearn-color-fitted-level-3);\n",
       "}\n",
       "\n",
       ".sk-estimator-doc-link:hover span {\n",
       "  display: block;\n",
       "}\n",
       "\n",
       "/* \"?\"-specific style due to the `<a>` HTML tag */\n",
       "\n",
       "#sk-container-id-1 a.estimator_doc_link {\n",
       "  float: right;\n",
       "  font-size: 1rem;\n",
       "  line-height: 1em;\n",
       "  font-family: monospace;\n",
       "  background-color: var(--sklearn-color-background);\n",
       "  border-radius: 1rem;\n",
       "  height: 1rem;\n",
       "  width: 1rem;\n",
       "  text-decoration: none;\n",
       "  /* unfitted */\n",
       "  color: var(--sklearn-color-unfitted-level-1);\n",
       "  border: var(--sklearn-color-unfitted-level-1) 1pt solid;\n",
       "}\n",
       "\n",
       "#sk-container-id-1 a.estimator_doc_link.fitted {\n",
       "  /* fitted */\n",
       "  border: var(--sklearn-color-fitted-level-1) 1pt solid;\n",
       "  color: var(--sklearn-color-fitted-level-1);\n",
       "}\n",
       "\n",
       "/* On hover */\n",
       "#sk-container-id-1 a.estimator_doc_link:hover {\n",
       "  /* unfitted */\n",
       "  background-color: var(--sklearn-color-unfitted-level-3);\n",
       "  color: var(--sklearn-color-background);\n",
       "  text-decoration: none;\n",
       "}\n",
       "\n",
       "#sk-container-id-1 a.estimator_doc_link.fitted:hover {\n",
       "  /* fitted */\n",
       "  background-color: var(--sklearn-color-fitted-level-3);\n",
       "}\n",
       "</style><div id=\"sk-container-id-1\" class=\"sk-top-container\"><div class=\"sk-text-repr-fallback\"><pre>Pipeline(steps=[(&#x27;final_transform&#x27;,\n",
       "                 Pipeline(steps=[(&#x27;preprocessor&#x27;,\n",
       "                                  ColumnTransformer(transformers=[(&#x27;num&#x27;,\n",
       "                                                                   Pipeline(steps=[(&#x27;mean_imputer&#x27;,\n",
       "                                                                                    SimpleImputer()),\n",
       "                                                                                   (&#x27;scaler&#x27;,\n",
       "                                                                                    StandardScaler())]),\n",
       "                                                                   [&#x27;Item_Weight&#x27;,\n",
       "                                                                    &#x27;Weight_per_Unit_MRP&#x27;,\n",
       "                                                                    &#x27;Item_Visibility&#x27;,\n",
       "                                                                    &#x27;Item_MRP_Outlet_Establishment_Year&#x27;,\n",
       "                                                                    &#x27;Item_MRP_Item_Visibility&#x27;,\n",
       "                                                                    &#x27;Years_Operating_Outlet_Type&#x27;,\n",
       "                                                                    &#x27;Outlet_Identifi...\n",
       "                                                                    &#x27;Outlet_Size_Outlet_Location_Type&#x27;,\n",
       "                                                                    &#x27;Item_Type_Item_Fat_Content&#x27;,\n",
       "                                                                    &#x27;Outlet_Type_Outlet_Location_Type&#x27;]),\n",
       "                                                                  (&#x27;ordinal&#x27;,\n",
       "                                                                   Pipeline(steps=[(&#x27;imputer&#x27;,\n",
       "                                                                                    SimpleImputer(strategy=&#x27;most_frequent&#x27;)),\n",
       "                                                                                   (&#x27;ordinal&#x27;,\n",
       "                                                                                    OrdinalEncoder(categories=[[&#x27;very &#x27;\n",
       "                                                                                                                &#x27;low&#x27;,\n",
       "                                                                                                                &#x27;low&#x27;,\n",
       "                                                                                                                &#x27;high&#x27;,\n",
       "                                                                                                                &#x27;very &#x27;\n",
       "                                                                                                                &#x27;high&#x27;]]))]),\n",
       "                                                                   [&#x27;MRP_cluster&#x27;])]))])),\n",
       "                (&#x27;svr&#x27;,\n",
       "                 SVR(C=2.6311460970378824, degree=2,\n",
       "                     epsilon=0.35225148545949075, kernel=&#x27;poly&#x27;))])</pre><b>In a Jupyter environment, please rerun this cell to show the HTML representation or trust the notebook. <br />On GitHub, the HTML representation is unable to render, please try loading this page with nbviewer.org.</b></div><div class=\"sk-container\" hidden><div class=\"sk-item sk-dashed-wrapped\"><div class=\"sk-label-container\"><div class=\"sk-label fitted sk-toggleable\"><input class=\"sk-toggleable__control sk-hidden--visually\" id=\"sk-estimator-id-1\" type=\"checkbox\" ><label for=\"sk-estimator-id-1\" class=\"sk-toggleable__label fitted sk-toggleable__label-arrow fitted\">&nbsp;&nbsp;Pipeline<a class=\"sk-estimator-doc-link fitted\" rel=\"noreferrer\" target=\"_blank\" href=\"https://scikit-learn.org/1.5/modules/generated/sklearn.pipeline.Pipeline.html\">?<span>Documentation for Pipeline</span></a><span class=\"sk-estimator-doc-link fitted\">i<span>Fitted</span></span></label><div class=\"sk-toggleable__content fitted\"><pre>Pipeline(steps=[(&#x27;final_transform&#x27;,\n",
       "                 Pipeline(steps=[(&#x27;preprocessor&#x27;,\n",
       "                                  ColumnTransformer(transformers=[(&#x27;num&#x27;,\n",
       "                                                                   Pipeline(steps=[(&#x27;mean_imputer&#x27;,\n",
       "                                                                                    SimpleImputer()),\n",
       "                                                                                   (&#x27;scaler&#x27;,\n",
       "                                                                                    StandardScaler())]),\n",
       "                                                                   [&#x27;Item_Weight&#x27;,\n",
       "                                                                    &#x27;Weight_per_Unit_MRP&#x27;,\n",
       "                                                                    &#x27;Item_Visibility&#x27;,\n",
       "                                                                    &#x27;Item_MRP_Outlet_Establishment_Year&#x27;,\n",
       "                                                                    &#x27;Item_MRP_Item_Visibility&#x27;,\n",
       "                                                                    &#x27;Years_Operating_Outlet_Type&#x27;,\n",
       "                                                                    &#x27;Outlet_Identifi...\n",
       "                                                                    &#x27;Outlet_Size_Outlet_Location_Type&#x27;,\n",
       "                                                                    &#x27;Item_Type_Item_Fat_Content&#x27;,\n",
       "                                                                    &#x27;Outlet_Type_Outlet_Location_Type&#x27;]),\n",
       "                                                                  (&#x27;ordinal&#x27;,\n",
       "                                                                   Pipeline(steps=[(&#x27;imputer&#x27;,\n",
       "                                                                                    SimpleImputer(strategy=&#x27;most_frequent&#x27;)),\n",
       "                                                                                   (&#x27;ordinal&#x27;,\n",
       "                                                                                    OrdinalEncoder(categories=[[&#x27;very &#x27;\n",
       "                                                                                                                &#x27;low&#x27;,\n",
       "                                                                                                                &#x27;low&#x27;,\n",
       "                                                                                                                &#x27;high&#x27;,\n",
       "                                                                                                                &#x27;very &#x27;\n",
       "                                                                                                                &#x27;high&#x27;]]))]),\n",
       "                                                                   [&#x27;MRP_cluster&#x27;])]))])),\n",
       "                (&#x27;svr&#x27;,\n",
       "                 SVR(C=2.6311460970378824, degree=2,\n",
       "                     epsilon=0.35225148545949075, kernel=&#x27;poly&#x27;))])</pre></div> </div></div><div class=\"sk-serial\"><div class=\"sk-item\"><div class=\"sk-label-container\"><div class=\"sk-label fitted sk-toggleable\"><input class=\"sk-toggleable__control sk-hidden--visually\" id=\"sk-estimator-id-2\" type=\"checkbox\" ><label for=\"sk-estimator-id-2\" class=\"sk-toggleable__label fitted sk-toggleable__label-arrow fitted\">&nbsp;final_transform: Pipeline<a class=\"sk-estimator-doc-link fitted\" rel=\"noreferrer\" target=\"_blank\" href=\"https://scikit-learn.org/1.5/modules/generated/sklearn.pipeline.Pipeline.html\">?<span>Documentation for final_transform: Pipeline</span></a></label><div class=\"sk-toggleable__content fitted\"><pre>Pipeline(steps=[(&#x27;preprocessor&#x27;,\n",
       "                 ColumnTransformer(transformers=[(&#x27;num&#x27;,\n",
       "                                                  Pipeline(steps=[(&#x27;mean_imputer&#x27;,\n",
       "                                                                   SimpleImputer()),\n",
       "                                                                  (&#x27;scaler&#x27;,\n",
       "                                                                   StandardScaler())]),\n",
       "                                                  [&#x27;Item_Weight&#x27;,\n",
       "                                                   &#x27;Weight_per_Unit_MRP&#x27;,\n",
       "                                                   &#x27;Item_Visibility&#x27;,\n",
       "                                                   &#x27;Item_MRP_Outlet_Establishment_Year&#x27;,\n",
       "                                                   &#x27;Item_MRP_Item_Visibility&#x27;,\n",
       "                                                   &#x27;Years_Operating_Outlet_Type&#x27;,\n",
       "                                                   &#x27;Outlet_Identifier_Years_Operating&#x27;,\n",
       "                                                   &#x27;Item_Visibilit...\n",
       "                                                   &#x27;Outlet_Size&#x27;, &#x27;Outlet_Type&#x27;,\n",
       "                                                   &#x27;Item_Type_Outlet_Type&#x27;,\n",
       "                                                   &#x27;Item_Fat_Content_Outlet_Type&#x27;,\n",
       "                                                   &#x27;Outlet_Size_Outlet_Location_Type&#x27;,\n",
       "                                                   &#x27;Item_Type_Item_Fat_Content&#x27;,\n",
       "                                                   &#x27;Outlet_Type_Outlet_Location_Type&#x27;]),\n",
       "                                                 (&#x27;ordinal&#x27;,\n",
       "                                                  Pipeline(steps=[(&#x27;imputer&#x27;,\n",
       "                                                                   SimpleImputer(strategy=&#x27;most_frequent&#x27;)),\n",
       "                                                                  (&#x27;ordinal&#x27;,\n",
       "                                                                   OrdinalEncoder(categories=[[&#x27;very &#x27;\n",
       "                                                                                               &#x27;low&#x27;,\n",
       "                                                                                               &#x27;low&#x27;,\n",
       "                                                                                               &#x27;high&#x27;,\n",
       "                                                                                               &#x27;very &#x27;\n",
       "                                                                                               &#x27;high&#x27;]]))]),\n",
       "                                                  [&#x27;MRP_cluster&#x27;])]))])</pre></div> </div></div><div class=\"sk-serial\"><div class=\"sk-item sk-dashed-wrapped\"><div class=\"sk-label-container\"><div class=\"sk-label fitted sk-toggleable\"><input class=\"sk-toggleable__control sk-hidden--visually\" id=\"sk-estimator-id-3\" type=\"checkbox\" ><label for=\"sk-estimator-id-3\" class=\"sk-toggleable__label fitted sk-toggleable__label-arrow fitted\">&nbsp;preprocessor: ColumnTransformer<a class=\"sk-estimator-doc-link fitted\" rel=\"noreferrer\" target=\"_blank\" href=\"https://scikit-learn.org/1.5/modules/generated/sklearn.compose.ColumnTransformer.html\">?<span>Documentation for preprocessor: ColumnTransformer</span></a></label><div class=\"sk-toggleable__content fitted\"><pre>ColumnTransformer(transformers=[(&#x27;num&#x27;,\n",
       "                                 Pipeline(steps=[(&#x27;mean_imputer&#x27;,\n",
       "                                                  SimpleImputer()),\n",
       "                                                 (&#x27;scaler&#x27;, StandardScaler())]),\n",
       "                                 [&#x27;Item_Weight&#x27;, &#x27;Weight_per_Unit_MRP&#x27;,\n",
       "                                  &#x27;Item_Visibility&#x27;,\n",
       "                                  &#x27;Item_MRP_Outlet_Establishment_Year&#x27;,\n",
       "                                  &#x27;Item_MRP_Item_Visibility&#x27;,\n",
       "                                  &#x27;Years_Operating_Outlet_Type&#x27;,\n",
       "                                  &#x27;Outlet_Identifier_Years_Operating&#x27;,\n",
       "                                  &#x27;Item_Visibility_Item_Type&#x27;]),\n",
       "                                (&#x27;target_encoder&#x27;...\n",
       "                                  &#x27;Outlet_Type&#x27;, &#x27;Item_Type_Outlet_Type&#x27;,\n",
       "                                  &#x27;Item_Fat_Content_Outlet_Type&#x27;,\n",
       "                                  &#x27;Outlet_Size_Outlet_Location_Type&#x27;,\n",
       "                                  &#x27;Item_Type_Item_Fat_Content&#x27;,\n",
       "                                  &#x27;Outlet_Type_Outlet_Location_Type&#x27;]),\n",
       "                                (&#x27;ordinal&#x27;,\n",
       "                                 Pipeline(steps=[(&#x27;imputer&#x27;,\n",
       "                                                  SimpleImputer(strategy=&#x27;most_frequent&#x27;)),\n",
       "                                                 (&#x27;ordinal&#x27;,\n",
       "                                                  OrdinalEncoder(categories=[[&#x27;very &#x27;\n",
       "                                                                              &#x27;low&#x27;,\n",
       "                                                                              &#x27;low&#x27;,\n",
       "                                                                              &#x27;high&#x27;,\n",
       "                                                                              &#x27;very &#x27;\n",
       "                                                                              &#x27;high&#x27;]]))]),\n",
       "                                 [&#x27;MRP_cluster&#x27;])])</pre></div> </div></div><div class=\"sk-parallel\"><div class=\"sk-parallel-item\"><div class=\"sk-item\"><div class=\"sk-label-container\"><div class=\"sk-label fitted sk-toggleable\"><input class=\"sk-toggleable__control sk-hidden--visually\" id=\"sk-estimator-id-4\" type=\"checkbox\" ><label for=\"sk-estimator-id-4\" class=\"sk-toggleable__label fitted sk-toggleable__label-arrow fitted\">num</label><div class=\"sk-toggleable__content fitted\"><pre>[&#x27;Item_Weight&#x27;, &#x27;Weight_per_Unit_MRP&#x27;, &#x27;Item_Visibility&#x27;, &#x27;Item_MRP_Outlet_Establishment_Year&#x27;, &#x27;Item_MRP_Item_Visibility&#x27;, &#x27;Years_Operating_Outlet_Type&#x27;, &#x27;Outlet_Identifier_Years_Operating&#x27;, &#x27;Item_Visibility_Item_Type&#x27;]</pre></div> </div></div><div class=\"sk-serial\"><div class=\"sk-item\"><div class=\"sk-serial\"><div class=\"sk-item\"><div class=\"sk-estimator fitted sk-toggleable\"><input class=\"sk-toggleable__control sk-hidden--visually\" id=\"sk-estimator-id-5\" type=\"checkbox\" ><label for=\"sk-estimator-id-5\" class=\"sk-toggleable__label fitted sk-toggleable__label-arrow fitted\">&nbsp;SimpleImputer<a class=\"sk-estimator-doc-link fitted\" rel=\"noreferrer\" target=\"_blank\" href=\"https://scikit-learn.org/1.5/modules/generated/sklearn.impute.SimpleImputer.html\">?<span>Documentation for SimpleImputer</span></a></label><div class=\"sk-toggleable__content fitted\"><pre>SimpleImputer()</pre></div> </div></div><div class=\"sk-item\"><div class=\"sk-estimator fitted sk-toggleable\"><input class=\"sk-toggleable__control sk-hidden--visually\" id=\"sk-estimator-id-6\" type=\"checkbox\" ><label for=\"sk-estimator-id-6\" class=\"sk-toggleable__label fitted sk-toggleable__label-arrow fitted\">&nbsp;StandardScaler<a class=\"sk-estimator-doc-link fitted\" rel=\"noreferrer\" target=\"_blank\" href=\"https://scikit-learn.org/1.5/modules/generated/sklearn.preprocessing.StandardScaler.html\">?<span>Documentation for StandardScaler</span></a></label><div class=\"sk-toggleable__content fitted\"><pre>StandardScaler()</pre></div> </div></div></div></div></div></div></div><div class=\"sk-parallel-item\"><div class=\"sk-item\"><div class=\"sk-label-container\"><div class=\"sk-label fitted sk-toggleable\"><input class=\"sk-toggleable__control sk-hidden--visually\" id=\"sk-estimator-id-7\" type=\"checkbox\" ><label for=\"sk-estimator-id-7\" class=\"sk-toggleable__label fitted sk-toggleable__label-arrow fitted\">target_encoder</label><div class=\"sk-toggleable__content fitted\"><pre>[&#x27;Item_Identifier&#x27;, &#x27;Item_Type&#x27;, &#x27;Outlet_Identifier&#x27;]</pre></div> </div></div><div class=\"sk-serial\"><div class=\"sk-item\"><div class=\"sk-serial\"><div class=\"sk-item\"><div class=\"sk-estimator fitted sk-toggleable\"><input class=\"sk-toggleable__control sk-hidden--visually\" id=\"sk-estimator-id-8\" type=\"checkbox\" ><label for=\"sk-estimator-id-8\" class=\"sk-toggleable__label fitted sk-toggleable__label-arrow fitted\">TargetEncoder</label><div class=\"sk-toggleable__content fitted\"><pre>TargetEncoder(cols=[&#x27;Item_Identifier&#x27;, &#x27;Item_Type&#x27;, &#x27;Outlet_Identifier&#x27;],\n",
       "              smoothing=0.5)</pre></div> </div></div></div></div></div></div></div><div class=\"sk-parallel-item\"><div class=\"sk-item\"><div class=\"sk-label-container\"><div class=\"sk-label fitted sk-toggleable\"><input class=\"sk-toggleable__control sk-hidden--visually\" id=\"sk-estimator-id-9\" type=\"checkbox\" ><label for=\"sk-estimator-id-9\" class=\"sk-toggleable__label fitted sk-toggleable__label-arrow fitted\">onehot</label><div class=\"sk-toggleable__content fitted\"><pre>[&#x27;Outlet_Location_Type&#x27;, &#x27;Category&#x27;, &#x27;Item_Fat_Content&#x27;, &#x27;Outlet_Size&#x27;, &#x27;Outlet_Type&#x27;, &#x27;Item_Type_Outlet_Type&#x27;, &#x27;Item_Fat_Content_Outlet_Type&#x27;, &#x27;Outlet_Size_Outlet_Location_Type&#x27;, &#x27;Item_Type_Item_Fat_Content&#x27;, &#x27;Outlet_Type_Outlet_Location_Type&#x27;]</pre></div> </div></div><div class=\"sk-serial\"><div class=\"sk-item\"><div class=\"sk-serial\"><div class=\"sk-item\"><div class=\"sk-estimator fitted sk-toggleable\"><input class=\"sk-toggleable__control sk-hidden--visually\" id=\"sk-estimator-id-10\" type=\"checkbox\" ><label for=\"sk-estimator-id-10\" class=\"sk-toggleable__label fitted sk-toggleable__label-arrow fitted\">&nbsp;SimpleImputer<a class=\"sk-estimator-doc-link fitted\" rel=\"noreferrer\" target=\"_blank\" href=\"https://scikit-learn.org/1.5/modules/generated/sklearn.impute.SimpleImputer.html\">?<span>Documentation for SimpleImputer</span></a></label><div class=\"sk-toggleable__content fitted\"><pre>SimpleImputer(strategy=&#x27;most_frequent&#x27;)</pre></div> </div></div><div class=\"sk-item\"><div class=\"sk-estimator fitted sk-toggleable\"><input class=\"sk-toggleable__control sk-hidden--visually\" id=\"sk-estimator-id-11\" type=\"checkbox\" ><label for=\"sk-estimator-id-11\" class=\"sk-toggleable__label fitted sk-toggleable__label-arrow fitted\">&nbsp;OneHotEncoder<a class=\"sk-estimator-doc-link fitted\" rel=\"noreferrer\" target=\"_blank\" href=\"https://scikit-learn.org/1.5/modules/generated/sklearn.preprocessing.OneHotEncoder.html\">?<span>Documentation for OneHotEncoder</span></a></label><div class=\"sk-toggleable__content fitted\"><pre>OneHotEncoder(handle_unknown=&#x27;ignore&#x27;, sparse_output=False)</pre></div> </div></div></div></div></div></div></div><div class=\"sk-parallel-item\"><div class=\"sk-item\"><div class=\"sk-label-container\"><div class=\"sk-label fitted sk-toggleable\"><input class=\"sk-toggleable__control sk-hidden--visually\" id=\"sk-estimator-id-12\" type=\"checkbox\" ><label for=\"sk-estimator-id-12\" class=\"sk-toggleable__label fitted sk-toggleable__label-arrow fitted\">ordinal</label><div class=\"sk-toggleable__content fitted\"><pre>[&#x27;MRP_cluster&#x27;]</pre></div> </div></div><div class=\"sk-serial\"><div class=\"sk-item\"><div class=\"sk-serial\"><div class=\"sk-item\"><div class=\"sk-estimator fitted sk-toggleable\"><input class=\"sk-toggleable__control sk-hidden--visually\" id=\"sk-estimator-id-13\" type=\"checkbox\" ><label for=\"sk-estimator-id-13\" class=\"sk-toggleable__label fitted sk-toggleable__label-arrow fitted\">&nbsp;SimpleImputer<a class=\"sk-estimator-doc-link fitted\" rel=\"noreferrer\" target=\"_blank\" href=\"https://scikit-learn.org/1.5/modules/generated/sklearn.impute.SimpleImputer.html\">?<span>Documentation for SimpleImputer</span></a></label><div class=\"sk-toggleable__content fitted\"><pre>SimpleImputer(strategy=&#x27;most_frequent&#x27;)</pre></div> </div></div><div class=\"sk-item\"><div class=\"sk-estimator fitted sk-toggleable\"><input class=\"sk-toggleable__control sk-hidden--visually\" id=\"sk-estimator-id-14\" type=\"checkbox\" ><label for=\"sk-estimator-id-14\" class=\"sk-toggleable__label fitted sk-toggleable__label-arrow fitted\">&nbsp;OrdinalEncoder<a class=\"sk-estimator-doc-link fitted\" rel=\"noreferrer\" target=\"_blank\" href=\"https://scikit-learn.org/1.5/modules/generated/sklearn.preprocessing.OrdinalEncoder.html\">?<span>Documentation for OrdinalEncoder</span></a></label><div class=\"sk-toggleable__content fitted\"><pre>OrdinalEncoder(categories=[[&#x27;very low&#x27;, &#x27;low&#x27;, &#x27;high&#x27;, &#x27;very high&#x27;]])</pre></div> </div></div></div></div></div></div></div></div></div></div></div><div class=\"sk-item\"><div class=\"sk-estimator fitted sk-toggleable\"><input class=\"sk-toggleable__control sk-hidden--visually\" id=\"sk-estimator-id-15\" type=\"checkbox\" ><label for=\"sk-estimator-id-15\" class=\"sk-toggleable__label fitted sk-toggleable__label-arrow fitted\">&nbsp;SVR<a class=\"sk-estimator-doc-link fitted\" rel=\"noreferrer\" target=\"_blank\" href=\"https://scikit-learn.org/1.5/modules/generated/sklearn.svm.SVR.html\">?<span>Documentation for SVR</span></a></label><div class=\"sk-toggleable__content fitted\"><pre>SVR(C=2.6311460970378824, degree=2, epsilon=0.35225148545949075, kernel=&#x27;poly&#x27;)</pre></div> </div></div></div></div></div></div>"
      ],
      "text/plain": [
       "Pipeline(steps=[('final_transform',\n",
       "                 Pipeline(steps=[('preprocessor',\n",
       "                                  ColumnTransformer(transformers=[('num',\n",
       "                                                                   Pipeline(steps=[('mean_imputer',\n",
       "                                                                                    SimpleImputer()),\n",
       "                                                                                   ('scaler',\n",
       "                                                                                    StandardScaler())]),\n",
       "                                                                   ['Item_Weight',\n",
       "                                                                    'Weight_per_Unit_MRP',\n",
       "                                                                    'Item_Visibility',\n",
       "                                                                    'Item_MRP_Outlet_Establishment_Year',\n",
       "                                                                    'Item_MRP_Item_Visibility',\n",
       "                                                                    'Years_Operating_Outlet_Type',\n",
       "                                                                    'Outlet_Identifi...\n",
       "                                                                    'Outlet_Size_Outlet_Location_Type',\n",
       "                                                                    'Item_Type_Item_Fat_Content',\n",
       "                                                                    'Outlet_Type_Outlet_Location_Type']),\n",
       "                                                                  ('ordinal',\n",
       "                                                                   Pipeline(steps=[('imputer',\n",
       "                                                                                    SimpleImputer(strategy='most_frequent')),\n",
       "                                                                                   ('ordinal',\n",
       "                                                                                    OrdinalEncoder(categories=[['very '\n",
       "                                                                                                                'low',\n",
       "                                                                                                                'low',\n",
       "                                                                                                                'high',\n",
       "                                                                                                                'very '\n",
       "                                                                                                                'high']]))]),\n",
       "                                                                   ['MRP_cluster'])]))])),\n",
       "                ('svr',\n",
       "                 SVR(C=2.6311460970378824, degree=2,\n",
       "                     epsilon=0.35225148545949075, kernel='poly'))])"
      ]
     },
     "execution_count": 32,
     "metadata": {},
     "output_type": "execute_result"
    }
   ],
   "source": [
    "# import eli5\n",
    "# from eli5.sklearn import PermutationImportance\n",
    "\n",
    "# Get the best parameters from the study\n",
    "best_params = study_svr.best_params\n",
    "\n",
    "# Create the best model using the best parameters\n",
    "best_model = SVR(**best_params)\n",
    "\n",
    "# Create a pipeline with the final transformer and the best model\n",
    "best_pipeline = Pipeline([\n",
    "    ('final_transform', final_pipeline),\n",
    "    ('svr', best_model)\n",
    "])\n",
    "\n",
    "best_pipeline.fit(X, Y)\n"
   ]
  },
  {
   "cell_type": "code",
   "execution_count": 33,
   "id": "ed27aea7",
   "metadata": {},
   "outputs": [
    {
     "ename": "ImportError",
     "evalue": "cannot import name 'if_delegate_has_method' from 'sklearn.utils.metaestimators' (c:\\Users\\DELL\\AppData\\Local\\Programs\\Python\\Python312\\Lib\\site-packages\\sklearn\\utils\\metaestimators.py)",
     "output_type": "error",
     "traceback": [
      "\u001b[1;31m---------------------------------------------------------------------------\u001b[0m",
      "\u001b[1;31mImportError\u001b[0m                               Traceback (most recent call last)",
      "Cell \u001b[1;32mIn[33], line 1\u001b[0m\n\u001b[1;32m----> 1\u001b[0m \u001b[38;5;28;01mimport\u001b[39;00m \u001b[38;5;21;01meli5\u001b[39;00m\n\u001b[0;32m      2\u001b[0m \u001b[38;5;28;01mfrom\u001b[39;00m \u001b[38;5;21;01meli5\u001b[39;00m\u001b[38;5;21;01m.\u001b[39;00m\u001b[38;5;21;01msklearn\u001b[39;00m \u001b[38;5;28;01mimport\u001b[39;00m PermutationImportance\n\u001b[0;32m      4\u001b[0m \u001b[38;5;66;03m# Fit the best pipeline on the data\u001b[39;00m\n",
      "File \u001b[1;32mc:\\Users\\DELL\\AppData\\Local\\Programs\\Python\\Python312\\Lib\\site-packages\\eli5\\__init__.py:13\u001b[0m\n\u001b[0;32m      6\u001b[0m \u001b[38;5;28;01mfrom\u001b[39;00m \u001b[38;5;21;01m.\u001b[39;00m\u001b[38;5;21;01mformatters\u001b[39;00m \u001b[38;5;28;01mimport\u001b[39;00m (\n\u001b[0;32m      7\u001b[0m     format_as_html,\n\u001b[0;32m      8\u001b[0m     format_html_styles,\n\u001b[0;32m      9\u001b[0m     format_as_text,\n\u001b[0;32m     10\u001b[0m     format_as_dict,\n\u001b[0;32m     11\u001b[0m )\n\u001b[0;32m     12\u001b[0m \u001b[38;5;28;01mfrom\u001b[39;00m \u001b[38;5;21;01m.\u001b[39;00m\u001b[38;5;21;01mexplain\u001b[39;00m \u001b[38;5;28;01mimport\u001b[39;00m explain_weights, explain_prediction\n\u001b[1;32m---> 13\u001b[0m \u001b[38;5;28;01mfrom\u001b[39;00m \u001b[38;5;21;01m.\u001b[39;00m\u001b[38;5;21;01msklearn\u001b[39;00m \u001b[38;5;28;01mimport\u001b[39;00m explain_weights_sklearn, explain_prediction_sklearn\n\u001b[0;32m     14\u001b[0m \u001b[38;5;28;01mfrom\u001b[39;00m \u001b[38;5;21;01m.\u001b[39;00m\u001b[38;5;21;01mtransform\u001b[39;00m \u001b[38;5;28;01mimport\u001b[39;00m transform_feature_names\n\u001b[0;32m     17\u001b[0m \u001b[38;5;28;01mtry\u001b[39;00m:\n",
      "File \u001b[1;32mc:\\Users\\DELL\\AppData\\Local\\Programs\\Python\\Python312\\Lib\\site-packages\\eli5\\sklearn\\__init__.py:3\u001b[0m\n\u001b[0;32m      1\u001b[0m \u001b[38;5;66;03m# -*- coding: utf-8 -*-\u001b[39;00m\n\u001b[0;32m      2\u001b[0m \u001b[38;5;28;01mfrom\u001b[39;00m \u001b[38;5;21;01m__future__\u001b[39;00m \u001b[38;5;28;01mimport\u001b[39;00m absolute_import\n\u001b[1;32m----> 3\u001b[0m \u001b[38;5;28;01mfrom\u001b[39;00m \u001b[38;5;21;01m.\u001b[39;00m\u001b[38;5;21;01mexplain_weights\u001b[39;00m \u001b[38;5;28;01mimport\u001b[39;00m (\n\u001b[0;32m      4\u001b[0m     explain_weights_sklearn,\n\u001b[0;32m      5\u001b[0m     explain_linear_classifier_weights,\n\u001b[0;32m      6\u001b[0m     explain_linear_regressor_weights,\n\u001b[0;32m      7\u001b[0m     explain_rf_feature_importance,\n\u001b[0;32m      8\u001b[0m     explain_decision_tree,\n\u001b[0;32m      9\u001b[0m )\n\u001b[0;32m     10\u001b[0m \u001b[38;5;28;01mfrom\u001b[39;00m \u001b[38;5;21;01m.\u001b[39;00m\u001b[38;5;21;01mexplain_prediction\u001b[39;00m \u001b[38;5;28;01mimport\u001b[39;00m (\n\u001b[0;32m     11\u001b[0m     explain_prediction_sklearn,\n\u001b[0;32m     12\u001b[0m     explain_prediction_linear_classifier,\n\u001b[0;32m     13\u001b[0m     explain_prediction_linear_regressor,\n\u001b[0;32m     14\u001b[0m )\n\u001b[0;32m     15\u001b[0m \u001b[38;5;28;01mfrom\u001b[39;00m \u001b[38;5;21;01m.\u001b[39;00m\u001b[38;5;21;01munhashing\u001b[39;00m \u001b[38;5;28;01mimport\u001b[39;00m (\n\u001b[0;32m     16\u001b[0m     InvertableHashingVectorizer,\n\u001b[0;32m     17\u001b[0m     FeatureUnhasher,\n\u001b[0;32m     18\u001b[0m     invert_hashing_and_fit,\n\u001b[0;32m     19\u001b[0m )\n",
      "File \u001b[1;32mc:\\Users\\DELL\\AppData\\Local\\Programs\\Python\\Python312\\Lib\\site-packages\\eli5\\sklearn\\explain_weights.py:78\u001b[0m\n\u001b[0;32m     73\u001b[0m \u001b[38;5;28;01mfrom\u001b[39;00m \u001b[38;5;21;01meli5\u001b[39;00m\u001b[38;5;21;01m.\u001b[39;00m\u001b[38;5;21;01mtransform\u001b[39;00m \u001b[38;5;28;01mimport\u001b[39;00m transform_feature_names\n\u001b[0;32m     74\u001b[0m \u001b[38;5;28;01mfrom\u001b[39;00m \u001b[38;5;21;01meli5\u001b[39;00m\u001b[38;5;21;01m.\u001b[39;00m\u001b[38;5;21;01m_feature_importances\u001b[39;00m \u001b[38;5;28;01mimport\u001b[39;00m (\n\u001b[0;32m     75\u001b[0m     get_feature_importances_filtered,\n\u001b[0;32m     76\u001b[0m     get_feature_importance_explanation,\n\u001b[0;32m     77\u001b[0m )\n\u001b[1;32m---> 78\u001b[0m \u001b[38;5;28;01mfrom\u001b[39;00m \u001b[38;5;21;01m.\u001b[39;00m\u001b[38;5;21;01mpermutation_importance\u001b[39;00m \u001b[38;5;28;01mimport\u001b[39;00m PermutationImportance\n\u001b[0;32m     81\u001b[0m LINEAR_CAVEATS \u001b[38;5;241m=\u001b[39m \u001b[38;5;124m\"\"\"\u001b[39m\n\u001b[0;32m     82\u001b[0m \u001b[38;5;124mCaveats:\u001b[39m\n\u001b[0;32m     83\u001b[0m \u001b[38;5;124m1. Be careful with features which are not\u001b[39m\n\u001b[1;32m   (...)\u001b[0m\n\u001b[0;32m     90\u001b[0m \u001b[38;5;124m   classification result for most examples.\u001b[39m\n\u001b[0;32m     91\u001b[0m \u001b[38;5;124m\"\"\"\u001b[39m\u001b[38;5;241m.\u001b[39mlstrip()\n\u001b[0;32m     93\u001b[0m HASHING_CAVEATS \u001b[38;5;241m=\u001b[39m \u001b[38;5;124m\"\"\"\u001b[39m\n\u001b[0;32m     94\u001b[0m \u001b[38;5;124mFeature names are restored from their hashes; this is not 100\u001b[39m\u001b[38;5;124m%\u001b[39m\u001b[38;5;124m precise\u001b[39m\n\u001b[0;32m     95\u001b[0m \u001b[38;5;124mbecause collisions are possible. For known collisions possible feature names\u001b[39m\n\u001b[1;32m   (...)\u001b[0m\n\u001b[0;32m     99\u001b[0m \u001b[38;5;124mthe result is positive.\u001b[39m\n\u001b[0;32m    100\u001b[0m \u001b[38;5;124m\"\"\"\u001b[39m\u001b[38;5;241m.\u001b[39mlstrip()\n",
      "File \u001b[1;32mc:\\Users\\DELL\\AppData\\Local\\Programs\\Python\\Python312\\Lib\\site-packages\\eli5\\sklearn\\permutation_importance.py:7\u001b[0m\n\u001b[0;32m      5\u001b[0m \u001b[38;5;28;01mimport\u001b[39;00m \u001b[38;5;21;01mnumpy\u001b[39;00m \u001b[38;5;28;01mas\u001b[39;00m \u001b[38;5;21;01mnp\u001b[39;00m\n\u001b[0;32m      6\u001b[0m \u001b[38;5;28;01mfrom\u001b[39;00m \u001b[38;5;21;01msklearn\u001b[39;00m\u001b[38;5;21;01m.\u001b[39;00m\u001b[38;5;21;01mmodel_selection\u001b[39;00m \u001b[38;5;28;01mimport\u001b[39;00m check_cv\n\u001b[1;32m----> 7\u001b[0m \u001b[38;5;28;01mfrom\u001b[39;00m \u001b[38;5;21;01msklearn\u001b[39;00m\u001b[38;5;21;01m.\u001b[39;00m\u001b[38;5;21;01mutils\u001b[39;00m\u001b[38;5;21;01m.\u001b[39;00m\u001b[38;5;21;01mmetaestimators\u001b[39;00m \u001b[38;5;28;01mimport\u001b[39;00m if_delegate_has_method\n\u001b[0;32m      8\u001b[0m \u001b[38;5;28;01mfrom\u001b[39;00m \u001b[38;5;21;01msklearn\u001b[39;00m\u001b[38;5;21;01m.\u001b[39;00m\u001b[38;5;21;01mutils\u001b[39;00m \u001b[38;5;28;01mimport\u001b[39;00m check_array, check_random_state\n\u001b[0;32m      9\u001b[0m \u001b[38;5;28;01mfrom\u001b[39;00m \u001b[38;5;21;01msklearn\u001b[39;00m\u001b[38;5;21;01m.\u001b[39;00m\u001b[38;5;21;01mbase\u001b[39;00m \u001b[38;5;28;01mimport\u001b[39;00m (\n\u001b[0;32m     10\u001b[0m     BaseEstimator,\n\u001b[0;32m     11\u001b[0m     MetaEstimatorMixin,\n\u001b[0;32m     12\u001b[0m     clone,\n\u001b[0;32m     13\u001b[0m     is_classifier\n\u001b[0;32m     14\u001b[0m )\n",
      "\u001b[1;31mImportError\u001b[0m: cannot import name 'if_delegate_has_method' from 'sklearn.utils.metaestimators' (c:\\Users\\DELL\\AppData\\Local\\Programs\\Python\\Python312\\Lib\\site-packages\\sklearn\\utils\\metaestimators.py)"
     ]
    }
   ],
   "source": [
    "# import eli5\n",
    "# from eli5.sklearn import PermutationImportance\n",
    "\n",
    "# # Fit the best pipeline on the data\n",
    "# best_pipeline.fit(X, Y)\n",
    "\n",
    "# # Use PermutationImportance to get feature importances\n",
    "# perm = PermutationImportance(best_pipeline.named_steps['svr'], random_state=1).fit(best_pipeline.named_steps['final_transform'].transform(X), Y)\n",
    "\n",
    "# # Display the feature importances\n",
    "# eli5.show_weights(perm, feature_names=best_pipeline.named_steps['final_transform'].get_feature_names_out())"
   ]
  }
 ],
 "metadata": {
  "kernelspec": {
   "display_name": "Python 3",
   "language": "python",
   "name": "python3"
  },
  "language_info": {
   "codemirror_mode": {
    "name": "ipython",
    "version": 3
   },
   "file_extension": ".py",
   "mimetype": "text/x-python",
   "name": "python",
   "nbconvert_exporter": "python",
   "pygments_lexer": "ipython3",
   "version": "3.12.5"
  }
 },
 "nbformat": 4,
 "nbformat_minor": 5
}
